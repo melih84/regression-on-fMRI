{
  "cells": [
    {
      "cell_type": "code",
      "execution_count": null,
      "metadata": {
        "colab": {
          "base_uri": "https://localhost:8080/"
        },
        "id": "G9UYOkslveU2",
        "outputId": "a7df8d95-037e-4ca2-a405-811e4c44aa3f"
      },
      "outputs": [
        {
          "output_type": "stream",
          "name": "stdout",
          "text": [
            "Requirement already satisfied: nilearn in /usr/local/lib/python3.10/dist-packages (0.10.1)\n",
            "Requirement already satisfied: joblib>=1.0.0 in /usr/local/lib/python3.10/dist-packages (from nilearn) (1.3.2)\n",
            "Requirement already satisfied: lxml in /usr/local/lib/python3.10/dist-packages (from nilearn) (4.9.3)\n",
            "Requirement already satisfied: nibabel>=3.2.0 in /usr/local/lib/python3.10/dist-packages (from nilearn) (4.0.2)\n",
            "Requirement already satisfied: numpy>=1.19.0 in /usr/local/lib/python3.10/dist-packages (from nilearn) (1.23.5)\n",
            "Requirement already satisfied: packaging in /usr/local/lib/python3.10/dist-packages (from nilearn) (23.1)\n",
            "Requirement already satisfied: pandas>=1.1.5 in /usr/local/lib/python3.10/dist-packages (from nilearn) (1.5.3)\n",
            "Requirement already satisfied: requests>=2.25.0 in /usr/local/lib/python3.10/dist-packages (from nilearn) (2.31.0)\n",
            "Requirement already satisfied: scikit-learn>=1.0.0 in /usr/local/lib/python3.10/dist-packages (from nilearn) (1.2.2)\n",
            "Requirement already satisfied: scipy>=1.6.0 in /usr/local/lib/python3.10/dist-packages (from nilearn) (1.11.2)\n",
            "Requirement already satisfied: setuptools in /usr/local/lib/python3.10/dist-packages (from nibabel>=3.2.0->nilearn) (67.7.2)\n",
            "Requirement already satisfied: python-dateutil>=2.8.1 in /usr/local/lib/python3.10/dist-packages (from pandas>=1.1.5->nilearn) (2.8.2)\n",
            "Requirement already satisfied: pytz>=2020.1 in /usr/local/lib/python3.10/dist-packages (from pandas>=1.1.5->nilearn) (2023.3.post1)\n",
            "Requirement already satisfied: charset-normalizer<4,>=2 in /usr/local/lib/python3.10/dist-packages (from requests>=2.25.0->nilearn) (3.2.0)\n",
            "Requirement already satisfied: idna<4,>=2.5 in /usr/local/lib/python3.10/dist-packages (from requests>=2.25.0->nilearn) (3.4)\n",
            "Requirement already satisfied: urllib3<3,>=1.21.1 in /usr/local/lib/python3.10/dist-packages (from requests>=2.25.0->nilearn) (2.0.4)\n",
            "Requirement already satisfied: certifi>=2017.4.17 in /usr/local/lib/python3.10/dist-packages (from requests>=2.25.0->nilearn) (2023.7.22)\n",
            "Requirement already satisfied: threadpoolctl>=2.0.0 in /usr/local/lib/python3.10/dist-packages (from scikit-learn>=1.0.0->nilearn) (3.2.0)\n",
            "Requirement already satisfied: six>=1.5 in /usr/local/lib/python3.10/dist-packages (from python-dateutil>=2.8.1->pandas>=1.1.5->nilearn) (1.16.0)\n"
          ]
        }
      ],
      "source": [
        "!pip install nilearn"
      ]
    },
    {
      "cell_type": "code",
      "source": [],
      "metadata": {
        "id": "c6SQ1lb8TpDM"
      },
      "execution_count": null,
      "outputs": []
    },
    {
      "cell_type": "markdown",
      "metadata": {
        "id": "xwlG4gvbGzVH"
      },
      "source": [
        "## Training"
      ]
    },
    {
      "cell_type": "markdown",
      "metadata": {
        "id": "zU_o0lj3G3Cl"
      },
      "source": [
        "For each voxel, we will produce a set of 339 (number of categories in our dataste) model weights reflecting how each object and action category\n",
        "influences BOLD responses in each voxel."
      ]
    },
    {
      "cell_type": "code",
      "execution_count": null,
      "metadata": {
        "id": "2KxE_mYF73q1"
      },
      "outputs": [],
      "source": [
        "import numpy as np\n",
        "import pandas as pd\n",
        "import matplotlib.pyplot as plt\n",
        "from sklearn.linear_model import RidgeCV\n",
        "import nilearn\n",
        "import nibabel as ni\n",
        "import sklearn\n",
        "import scipy\n",
        "\n",
        "from sklearn.linear_model import Ridge\n",
        "from scipy.stats import pearsonr\n",
        "from sklearn.metrics import r2_score\n",
        "from sklearn.feature_selection import r_regression\n",
        "\n",
        "from nilearn import image\n"
      ]
    },
    {
      "cell_type": "code",
      "execution_count": null,
      "metadata": {
        "id": "KfOH2A638CWx",
        "colab": {
          "base_uri": "https://localhost:8080/"
        },
        "outputId": "469a468c-6395-4167-8cc4-fe22a7f9e4a2"
      },
      "outputs": [
        {
          "output_type": "stream",
          "name": "stdout",
          "text": [
            "Drive already mounted at /content/drive; to attempt to forcibly remount, call drive.mount(\"/content/drive\", force_remount=True).\n"
          ]
        }
      ],
      "source": [
        "from google.colab import drive\n",
        "drive.mount('/content/drive')"
      ]
    },
    {
      "cell_type": "code",
      "execution_count": null,
      "metadata": {
        "id": "AD2MRS2j8FB0",
        "colab": {
          "base_uri": "https://localhost:8080/"
        },
        "outputId": "8f8b64ca-8016-4a7e-8db5-14eb8b5995fe"
      },
      "outputs": [
        {
          "output_type": "stream",
          "name": "stdout",
          "text": [
            "[Errno 2] No such file or directory: 'drive/Shareddrives/WHMS_Huth_Replication/'\n",
            "/content/drive/Shareddrives/WHMS_Huth_Replication\n"
          ]
        }
      ],
      "source": [
        "%cd \"drive/Shareddrives/WHMS_Huth_Replication/\""
      ]
    },
    {
      "cell_type": "markdown",
      "metadata": {
        "id": "vvjOs9RJAm0V"
      },
      "source": [
        "Steps will be :\n",
        "\n",
        "```\n",
        "1. Read the corresponding stimuli (X) and neural data (Y).\n",
        "2. Obtain subsets of train (X_train, y_train) and test sets (X_test, y_test).\n",
        "3. Fit a machine learning model on the train set (X_train, y_train).\n",
        "\n",
        "    3a. Use Cross-Validation for zero-shot learning.\n",
        "                            OR,\n",
        "    3a. Use Nested Cross-Validation when train and test sets contain multiple samples for the same stimulus.\n",
        "\n",
        "    Optional: Do PCA.\n",
        "\n",
        "\n",
        "    3b. Obtain predictions on the test set (X_test, y_test).\n",
        "\n",
        "4. Evaluate the predictions using a scoring metric (E.g., 2 vs 2 test, Correlation).\n",
        "5. Calculate statistical significance of the results.\n",
        "    5a. Run many iterations of the permutation test i.e., a resampling procedure.\n",
        "    5b. Calculate how many times the permuted accuracy is as extreme as the observed accuracy\n",
        "    -> This gives you the p-value.\n",
        "    5c. Correct for multiple comparisons.\n",
        "```"
      ]
    },
    {
      "cell_type": "markdown",
      "metadata": {
        "id": "BGd6MyP_A_qF"
      },
      "source": [
        "# Step 1: Reading data"
      ]
    },
    {
      "cell_type": "code",
      "execution_count": null,
      "metadata": {
        "id": "6Fmx6wiRAjxf",
        "colab": {
          "base_uri": "https://localhost:8080/"
        },
        "outputId": "8a461f64-5742-4d0e-caf0-c3e401302800"
      },
      "outputs": [
        {
          "output_type": "execute_result",
          "data": {
            "text/plain": [
              "(210, 768)"
            ]
          },
          "metadata": {},
          "execution_count": 44
        }
      ],
      "source": [
        "category_stimulus_matrix = pd.read_csv(\"Embeddings/contextual_fluid_CL_3.csv\")\n",
        "# pd.set_option('display.max_rows', None)\n",
        "# pd.set_option('display.max_columns', None)\n",
        "\n",
        "category_stimulus_matrix.pop(\"Unnamed: 0\")\n",
        "category_stimulus_matrix.shape\n",
        "# category_stimulus_matrix[\"28\"]"
      ]
    },
    {
      "cell_type": "code",
      "execution_count": null,
      "metadata": {
        "id": "GFl8sNY4YMo2",
        "colab": {
          "base_uri": "https://localhost:8080/",
          "height": 444
        },
        "outputId": "31ddaf78-4999-4269-b356-7a4091e6d672"
      },
      "outputs": [
        {
          "output_type": "execute_result",
          "data": {
            "text/plain": [
              "            0         1         2         3         4         5         6  \\\n",
              "0   -0.665466 -0.481045 -0.632538 -0.574211  0.265978  0.208252 -0.110487   \n",
              "1   -0.657635 -0.516807 -0.571140 -0.521586  0.317902  0.121576 -0.247897   \n",
              "2   -0.561190 -0.534332 -0.265085 -0.541395  0.160462  0.063830 -0.152606   \n",
              "3    0.171892 -0.600783  0.122656 -0.435181 -0.095137 -0.036851  0.367848   \n",
              "4   -0.372786 -0.751238  0.138237 -0.394368 -0.081964 -0.186508 -0.156211   \n",
              "..        ...       ...       ...       ...       ...       ...       ...   \n",
              "205 -0.579371 -0.571055 -0.274274 -0.291414 -0.225291 -0.175361 -0.104382   \n",
              "206 -0.680357 -0.669745 -0.004662 -0.347313 -0.154219 -0.134749  0.293586   \n",
              "207 -0.080315 -0.701456  0.061144 -0.366875  0.317423  0.131670  0.414080   \n",
              "208 -0.223408 -0.771718 -0.055554 -0.595071  0.294501  0.488388  0.129721   \n",
              "209 -0.483898 -0.479384 -0.157225 -0.600246  0.143462  0.431209  0.429041   \n",
              "\n",
              "            7         8         9  ...       758       759       760  \\\n",
              "0    0.617048 -0.358210 -0.346418  ...  0.426505 -0.362684  0.342742   \n",
              "1    0.684638 -0.384625 -0.642871  ...  0.420287 -0.456432  0.223256   \n",
              "2    0.592112 -0.429408 -0.643014  ...  0.331615 -0.297201  0.290333   \n",
              "3    0.987378 -0.291586 -0.798707  ...  0.001379 -0.197004  0.065439   \n",
              "4    0.578065 -0.235884 -0.355177  ... -0.248846 -0.236079 -0.028546   \n",
              "..        ...       ...       ...  ...       ...       ...       ...   \n",
              "205  0.623696 -0.161913 -0.836634  ... -0.009626  0.135946 -0.033877   \n",
              "206  0.629692 -0.091549 -0.548687  ...  0.038114 -0.280570  0.268845   \n",
              "207  0.783039 -0.001678 -0.953485  ... -0.199780 -0.227290  0.182268   \n",
              "208  0.452024 -0.263728 -0.897276  ...  0.242191 -0.693873 -0.536418   \n",
              "209  0.441828 -0.355008 -0.719828  ...  0.191157 -0.635675 -0.523182   \n",
              "\n",
              "          761       762       763       764       765       766       767  \n",
              "0    0.244411  0.221504  0.036397  0.041988  0.079929  0.351689 -0.085440  \n",
              "1    0.229224  0.272600 -0.080696  0.056312  0.108017  0.399184 -0.046890  \n",
              "2    0.339877  0.053910 -0.070756  0.329703 -0.081345  0.217889 -0.292074  \n",
              "3    0.465560  0.538177  0.200813  0.451836 -0.410598  0.259384 -0.089665  \n",
              "4    0.444701  0.135795  0.010700  0.193112 -0.515183  0.012225  0.031256  \n",
              "..        ...       ...       ...       ...       ...       ...       ...  \n",
              "205  0.336517 -0.465816  0.573888 -0.308555 -0.145637 -0.278781  0.064999  \n",
              "206  0.304825  0.196548  0.121319  0.300779 -0.091723  0.279103 -0.251078  \n",
              "207  0.054442 -0.036628  0.177856  0.296262  0.244555 -0.253393 -0.177136  \n",
              "208 -0.125724  0.277231  0.137685  0.287937 -0.134624 -0.054463  0.334956  \n",
              "209 -0.333896  0.922963 -0.107406  0.323920 -0.628879 -0.364828  0.684801  \n",
              "\n",
              "[210 rows x 768 columns]"
            ],
            "text/html": [
              "\n",
              "  <div id=\"df-0f676c0e-8633-48fc-8310-7d4cae98a025\" class=\"colab-df-container\">\n",
              "    <div>\n",
              "<style scoped>\n",
              "    .dataframe tbody tr th:only-of-type {\n",
              "        vertical-align: middle;\n",
              "    }\n",
              "\n",
              "    .dataframe tbody tr th {\n",
              "        vertical-align: top;\n",
              "    }\n",
              "\n",
              "    .dataframe thead th {\n",
              "        text-align: right;\n",
              "    }\n",
              "</style>\n",
              "<table border=\"1\" class=\"dataframe\">\n",
              "  <thead>\n",
              "    <tr style=\"text-align: right;\">\n",
              "      <th></th>\n",
              "      <th>0</th>\n",
              "      <th>1</th>\n",
              "      <th>2</th>\n",
              "      <th>3</th>\n",
              "      <th>4</th>\n",
              "      <th>5</th>\n",
              "      <th>6</th>\n",
              "      <th>7</th>\n",
              "      <th>8</th>\n",
              "      <th>9</th>\n",
              "      <th>...</th>\n",
              "      <th>758</th>\n",
              "      <th>759</th>\n",
              "      <th>760</th>\n",
              "      <th>761</th>\n",
              "      <th>762</th>\n",
              "      <th>763</th>\n",
              "      <th>764</th>\n",
              "      <th>765</th>\n",
              "      <th>766</th>\n",
              "      <th>767</th>\n",
              "    </tr>\n",
              "  </thead>\n",
              "  <tbody>\n",
              "    <tr>\n",
              "      <th>0</th>\n",
              "      <td>-0.665466</td>\n",
              "      <td>-0.481045</td>\n",
              "      <td>-0.632538</td>\n",
              "      <td>-0.574211</td>\n",
              "      <td>0.265978</td>\n",
              "      <td>0.208252</td>\n",
              "      <td>-0.110487</td>\n",
              "      <td>0.617048</td>\n",
              "      <td>-0.358210</td>\n",
              "      <td>-0.346418</td>\n",
              "      <td>...</td>\n",
              "      <td>0.426505</td>\n",
              "      <td>-0.362684</td>\n",
              "      <td>0.342742</td>\n",
              "      <td>0.244411</td>\n",
              "      <td>0.221504</td>\n",
              "      <td>0.036397</td>\n",
              "      <td>0.041988</td>\n",
              "      <td>0.079929</td>\n",
              "      <td>0.351689</td>\n",
              "      <td>-0.085440</td>\n",
              "    </tr>\n",
              "    <tr>\n",
              "      <th>1</th>\n",
              "      <td>-0.657635</td>\n",
              "      <td>-0.516807</td>\n",
              "      <td>-0.571140</td>\n",
              "      <td>-0.521586</td>\n",
              "      <td>0.317902</td>\n",
              "      <td>0.121576</td>\n",
              "      <td>-0.247897</td>\n",
              "      <td>0.684638</td>\n",
              "      <td>-0.384625</td>\n",
              "      <td>-0.642871</td>\n",
              "      <td>...</td>\n",
              "      <td>0.420287</td>\n",
              "      <td>-0.456432</td>\n",
              "      <td>0.223256</td>\n",
              "      <td>0.229224</td>\n",
              "      <td>0.272600</td>\n",
              "      <td>-0.080696</td>\n",
              "      <td>0.056312</td>\n",
              "      <td>0.108017</td>\n",
              "      <td>0.399184</td>\n",
              "      <td>-0.046890</td>\n",
              "    </tr>\n",
              "    <tr>\n",
              "      <th>2</th>\n",
              "      <td>-0.561190</td>\n",
              "      <td>-0.534332</td>\n",
              "      <td>-0.265085</td>\n",
              "      <td>-0.541395</td>\n",
              "      <td>0.160462</td>\n",
              "      <td>0.063830</td>\n",
              "      <td>-0.152606</td>\n",
              "      <td>0.592112</td>\n",
              "      <td>-0.429408</td>\n",
              "      <td>-0.643014</td>\n",
              "      <td>...</td>\n",
              "      <td>0.331615</td>\n",
              "      <td>-0.297201</td>\n",
              "      <td>0.290333</td>\n",
              "      <td>0.339877</td>\n",
              "      <td>0.053910</td>\n",
              "      <td>-0.070756</td>\n",
              "      <td>0.329703</td>\n",
              "      <td>-0.081345</td>\n",
              "      <td>0.217889</td>\n",
              "      <td>-0.292074</td>\n",
              "    </tr>\n",
              "    <tr>\n",
              "      <th>3</th>\n",
              "      <td>0.171892</td>\n",
              "      <td>-0.600783</td>\n",
              "      <td>0.122656</td>\n",
              "      <td>-0.435181</td>\n",
              "      <td>-0.095137</td>\n",
              "      <td>-0.036851</td>\n",
              "      <td>0.367848</td>\n",
              "      <td>0.987378</td>\n",
              "      <td>-0.291586</td>\n",
              "      <td>-0.798707</td>\n",
              "      <td>...</td>\n",
              "      <td>0.001379</td>\n",
              "      <td>-0.197004</td>\n",
              "      <td>0.065439</td>\n",
              "      <td>0.465560</td>\n",
              "      <td>0.538177</td>\n",
              "      <td>0.200813</td>\n",
              "      <td>0.451836</td>\n",
              "      <td>-0.410598</td>\n",
              "      <td>0.259384</td>\n",
              "      <td>-0.089665</td>\n",
              "    </tr>\n",
              "    <tr>\n",
              "      <th>4</th>\n",
              "      <td>-0.372786</td>\n",
              "      <td>-0.751238</td>\n",
              "      <td>0.138237</td>\n",
              "      <td>-0.394368</td>\n",
              "      <td>-0.081964</td>\n",
              "      <td>-0.186508</td>\n",
              "      <td>-0.156211</td>\n",
              "      <td>0.578065</td>\n",
              "      <td>-0.235884</td>\n",
              "      <td>-0.355177</td>\n",
              "      <td>...</td>\n",
              "      <td>-0.248846</td>\n",
              "      <td>-0.236079</td>\n",
              "      <td>-0.028546</td>\n",
              "      <td>0.444701</td>\n",
              "      <td>0.135795</td>\n",
              "      <td>0.010700</td>\n",
              "      <td>0.193112</td>\n",
              "      <td>-0.515183</td>\n",
              "      <td>0.012225</td>\n",
              "      <td>0.031256</td>\n",
              "    </tr>\n",
              "    <tr>\n",
              "      <th>...</th>\n",
              "      <td>...</td>\n",
              "      <td>...</td>\n",
              "      <td>...</td>\n",
              "      <td>...</td>\n",
              "      <td>...</td>\n",
              "      <td>...</td>\n",
              "      <td>...</td>\n",
              "      <td>...</td>\n",
              "      <td>...</td>\n",
              "      <td>...</td>\n",
              "      <td>...</td>\n",
              "      <td>...</td>\n",
              "      <td>...</td>\n",
              "      <td>...</td>\n",
              "      <td>...</td>\n",
              "      <td>...</td>\n",
              "      <td>...</td>\n",
              "      <td>...</td>\n",
              "      <td>...</td>\n",
              "      <td>...</td>\n",
              "      <td>...</td>\n",
              "    </tr>\n",
              "    <tr>\n",
              "      <th>205</th>\n",
              "      <td>-0.579371</td>\n",
              "      <td>-0.571055</td>\n",
              "      <td>-0.274274</td>\n",
              "      <td>-0.291414</td>\n",
              "      <td>-0.225291</td>\n",
              "      <td>-0.175361</td>\n",
              "      <td>-0.104382</td>\n",
              "      <td>0.623696</td>\n",
              "      <td>-0.161913</td>\n",
              "      <td>-0.836634</td>\n",
              "      <td>...</td>\n",
              "      <td>-0.009626</td>\n",
              "      <td>0.135946</td>\n",
              "      <td>-0.033877</td>\n",
              "      <td>0.336517</td>\n",
              "      <td>-0.465816</td>\n",
              "      <td>0.573888</td>\n",
              "      <td>-0.308555</td>\n",
              "      <td>-0.145637</td>\n",
              "      <td>-0.278781</td>\n",
              "      <td>0.064999</td>\n",
              "    </tr>\n",
              "    <tr>\n",
              "      <th>206</th>\n",
              "      <td>-0.680357</td>\n",
              "      <td>-0.669745</td>\n",
              "      <td>-0.004662</td>\n",
              "      <td>-0.347313</td>\n",
              "      <td>-0.154219</td>\n",
              "      <td>-0.134749</td>\n",
              "      <td>0.293586</td>\n",
              "      <td>0.629692</td>\n",
              "      <td>-0.091549</td>\n",
              "      <td>-0.548687</td>\n",
              "      <td>...</td>\n",
              "      <td>0.038114</td>\n",
              "      <td>-0.280570</td>\n",
              "      <td>0.268845</td>\n",
              "      <td>0.304825</td>\n",
              "      <td>0.196548</td>\n",
              "      <td>0.121319</td>\n",
              "      <td>0.300779</td>\n",
              "      <td>-0.091723</td>\n",
              "      <td>0.279103</td>\n",
              "      <td>-0.251078</td>\n",
              "    </tr>\n",
              "    <tr>\n",
              "      <th>207</th>\n",
              "      <td>-0.080315</td>\n",
              "      <td>-0.701456</td>\n",
              "      <td>0.061144</td>\n",
              "      <td>-0.366875</td>\n",
              "      <td>0.317423</td>\n",
              "      <td>0.131670</td>\n",
              "      <td>0.414080</td>\n",
              "      <td>0.783039</td>\n",
              "      <td>-0.001678</td>\n",
              "      <td>-0.953485</td>\n",
              "      <td>...</td>\n",
              "      <td>-0.199780</td>\n",
              "      <td>-0.227290</td>\n",
              "      <td>0.182268</td>\n",
              "      <td>0.054442</td>\n",
              "      <td>-0.036628</td>\n",
              "      <td>0.177856</td>\n",
              "      <td>0.296262</td>\n",
              "      <td>0.244555</td>\n",
              "      <td>-0.253393</td>\n",
              "      <td>-0.177136</td>\n",
              "    </tr>\n",
              "    <tr>\n",
              "      <th>208</th>\n",
              "      <td>-0.223408</td>\n",
              "      <td>-0.771718</td>\n",
              "      <td>-0.055554</td>\n",
              "      <td>-0.595071</td>\n",
              "      <td>0.294501</td>\n",
              "      <td>0.488388</td>\n",
              "      <td>0.129721</td>\n",
              "      <td>0.452024</td>\n",
              "      <td>-0.263728</td>\n",
              "      <td>-0.897276</td>\n",
              "      <td>...</td>\n",
              "      <td>0.242191</td>\n",
              "      <td>-0.693873</td>\n",
              "      <td>-0.536418</td>\n",
              "      <td>-0.125724</td>\n",
              "      <td>0.277231</td>\n",
              "      <td>0.137685</td>\n",
              "      <td>0.287937</td>\n",
              "      <td>-0.134624</td>\n",
              "      <td>-0.054463</td>\n",
              "      <td>0.334956</td>\n",
              "    </tr>\n",
              "    <tr>\n",
              "      <th>209</th>\n",
              "      <td>-0.483898</td>\n",
              "      <td>-0.479384</td>\n",
              "      <td>-0.157225</td>\n",
              "      <td>-0.600246</td>\n",
              "      <td>0.143462</td>\n",
              "      <td>0.431209</td>\n",
              "      <td>0.429041</td>\n",
              "      <td>0.441828</td>\n",
              "      <td>-0.355008</td>\n",
              "      <td>-0.719828</td>\n",
              "      <td>...</td>\n",
              "      <td>0.191157</td>\n",
              "      <td>-0.635675</td>\n",
              "      <td>-0.523182</td>\n",
              "      <td>-0.333896</td>\n",
              "      <td>0.922963</td>\n",
              "      <td>-0.107406</td>\n",
              "      <td>0.323920</td>\n",
              "      <td>-0.628879</td>\n",
              "      <td>-0.364828</td>\n",
              "      <td>0.684801</td>\n",
              "    </tr>\n",
              "  </tbody>\n",
              "</table>\n",
              "<p>210 rows × 768 columns</p>\n",
              "</div>\n",
              "    <div class=\"colab-df-buttons\">\n",
              "\n",
              "  <div class=\"colab-df-container\">\n",
              "    <button class=\"colab-df-convert\" onclick=\"convertToInteractive('df-0f676c0e-8633-48fc-8310-7d4cae98a025')\"\n",
              "            title=\"Convert this dataframe to an interactive table.\"\n",
              "            style=\"display:none;\">\n",
              "\n",
              "  <svg xmlns=\"http://www.w3.org/2000/svg\" height=\"24px\" viewBox=\"0 -960 960 960\">\n",
              "    <path d=\"M120-120v-720h720v720H120Zm60-500h600v-160H180v160Zm220 220h160v-160H400v160Zm0 220h160v-160H400v160ZM180-400h160v-160H180v160Zm440 0h160v-160H620v160ZM180-180h160v-160H180v160Zm440 0h160v-160H620v160Z\"/>\n",
              "  </svg>\n",
              "    </button>\n",
              "\n",
              "  <style>\n",
              "    .colab-df-container {\n",
              "      display:flex;\n",
              "      gap: 12px;\n",
              "    }\n",
              "\n",
              "    .colab-df-convert {\n",
              "      background-color: #E8F0FE;\n",
              "      border: none;\n",
              "      border-radius: 50%;\n",
              "      cursor: pointer;\n",
              "      display: none;\n",
              "      fill: #1967D2;\n",
              "      height: 32px;\n",
              "      padding: 0 0 0 0;\n",
              "      width: 32px;\n",
              "    }\n",
              "\n",
              "    .colab-df-convert:hover {\n",
              "      background-color: #E2EBFA;\n",
              "      box-shadow: 0px 1px 2px rgba(60, 64, 67, 0.3), 0px 1px 3px 1px rgba(60, 64, 67, 0.15);\n",
              "      fill: #174EA6;\n",
              "    }\n",
              "\n",
              "    .colab-df-buttons div {\n",
              "      margin-bottom: 4px;\n",
              "    }\n",
              "\n",
              "    [theme=dark] .colab-df-convert {\n",
              "      background-color: #3B4455;\n",
              "      fill: #D2E3FC;\n",
              "    }\n",
              "\n",
              "    [theme=dark] .colab-df-convert:hover {\n",
              "      background-color: #434B5C;\n",
              "      box-shadow: 0px 1px 3px 1px rgba(0, 0, 0, 0.15);\n",
              "      filter: drop-shadow(0px 1px 2px rgba(0, 0, 0, 0.3));\n",
              "      fill: #FFFFFF;\n",
              "    }\n",
              "  </style>\n",
              "\n",
              "    <script>\n",
              "      const buttonEl =\n",
              "        document.querySelector('#df-0f676c0e-8633-48fc-8310-7d4cae98a025 button.colab-df-convert');\n",
              "      buttonEl.style.display =\n",
              "        google.colab.kernel.accessAllowed ? 'block' : 'none';\n",
              "\n",
              "      async function convertToInteractive(key) {\n",
              "        const element = document.querySelector('#df-0f676c0e-8633-48fc-8310-7d4cae98a025');\n",
              "        const dataTable =\n",
              "          await google.colab.kernel.invokeFunction('convertToInteractive',\n",
              "                                                    [key], {});\n",
              "        if (!dataTable) return;\n",
              "\n",
              "        const docLinkHtml = 'Like what you see? Visit the ' +\n",
              "          '<a target=\"_blank\" href=https://colab.research.google.com/notebooks/data_table.ipynb>data table notebook</a>'\n",
              "          + ' to learn more about interactive tables.';\n",
              "        element.innerHTML = '';\n",
              "        dataTable['output_type'] = 'display_data';\n",
              "        await google.colab.output.renderOutput(dataTable, element);\n",
              "        const docLink = document.createElement('div');\n",
              "        docLink.innerHTML = docLinkHtml;\n",
              "        element.appendChild(docLink);\n",
              "      }\n",
              "    </script>\n",
              "  </div>\n",
              "\n",
              "\n",
              "<div id=\"df-42bdf866-1bc2-494c-97c4-a6d9e49b64b4\">\n",
              "  <button class=\"colab-df-quickchart\" onclick=\"quickchart('df-42bdf866-1bc2-494c-97c4-a6d9e49b64b4')\"\n",
              "            title=\"Suggest charts.\"\n",
              "            style=\"display:none;\">\n",
              "\n",
              "<svg xmlns=\"http://www.w3.org/2000/svg\" height=\"24px\"viewBox=\"0 0 24 24\"\n",
              "     width=\"24px\">\n",
              "    <g>\n",
              "        <path d=\"M19 3H5c-1.1 0-2 .9-2 2v14c0 1.1.9 2 2 2h14c1.1 0 2-.9 2-2V5c0-1.1-.9-2-2-2zM9 17H7v-7h2v7zm4 0h-2V7h2v10zm4 0h-2v-4h2v4z\"/>\n",
              "    </g>\n",
              "</svg>\n",
              "  </button>\n",
              "\n",
              "<style>\n",
              "  .colab-df-quickchart {\n",
              "      --bg-color: #E8F0FE;\n",
              "      --fill-color: #1967D2;\n",
              "      --hover-bg-color: #E2EBFA;\n",
              "      --hover-fill-color: #174EA6;\n",
              "      --disabled-fill-color: #AAA;\n",
              "      --disabled-bg-color: #DDD;\n",
              "  }\n",
              "\n",
              "  [theme=dark] .colab-df-quickchart {\n",
              "      --bg-color: #3B4455;\n",
              "      --fill-color: #D2E3FC;\n",
              "      --hover-bg-color: #434B5C;\n",
              "      --hover-fill-color: #FFFFFF;\n",
              "      --disabled-bg-color: #3B4455;\n",
              "      --disabled-fill-color: #666;\n",
              "  }\n",
              "\n",
              "  .colab-df-quickchart {\n",
              "    background-color: var(--bg-color);\n",
              "    border: none;\n",
              "    border-radius: 50%;\n",
              "    cursor: pointer;\n",
              "    display: none;\n",
              "    fill: var(--fill-color);\n",
              "    height: 32px;\n",
              "    padding: 0;\n",
              "    width: 32px;\n",
              "  }\n",
              "\n",
              "  .colab-df-quickchart:hover {\n",
              "    background-color: var(--hover-bg-color);\n",
              "    box-shadow: 0 1px 2px rgba(60, 64, 67, 0.3), 0 1px 3px 1px rgba(60, 64, 67, 0.15);\n",
              "    fill: var(--button-hover-fill-color);\n",
              "  }\n",
              "\n",
              "  .colab-df-quickchart-complete:disabled,\n",
              "  .colab-df-quickchart-complete:disabled:hover {\n",
              "    background-color: var(--disabled-bg-color);\n",
              "    fill: var(--disabled-fill-color);\n",
              "    box-shadow: none;\n",
              "  }\n",
              "\n",
              "  .colab-df-spinner {\n",
              "    border: 2px solid var(--fill-color);\n",
              "    border-color: transparent;\n",
              "    border-bottom-color: var(--fill-color);\n",
              "    animation:\n",
              "      spin 1s steps(1) infinite;\n",
              "  }\n",
              "\n",
              "  @keyframes spin {\n",
              "    0% {\n",
              "      border-color: transparent;\n",
              "      border-bottom-color: var(--fill-color);\n",
              "      border-left-color: var(--fill-color);\n",
              "    }\n",
              "    20% {\n",
              "      border-color: transparent;\n",
              "      border-left-color: var(--fill-color);\n",
              "      border-top-color: var(--fill-color);\n",
              "    }\n",
              "    30% {\n",
              "      border-color: transparent;\n",
              "      border-left-color: var(--fill-color);\n",
              "      border-top-color: var(--fill-color);\n",
              "      border-right-color: var(--fill-color);\n",
              "    }\n",
              "    40% {\n",
              "      border-color: transparent;\n",
              "      border-right-color: var(--fill-color);\n",
              "      border-top-color: var(--fill-color);\n",
              "    }\n",
              "    60% {\n",
              "      border-color: transparent;\n",
              "      border-right-color: var(--fill-color);\n",
              "    }\n",
              "    80% {\n",
              "      border-color: transparent;\n",
              "      border-right-color: var(--fill-color);\n",
              "      border-bottom-color: var(--fill-color);\n",
              "    }\n",
              "    90% {\n",
              "      border-color: transparent;\n",
              "      border-bottom-color: var(--fill-color);\n",
              "    }\n",
              "  }\n",
              "</style>\n",
              "\n",
              "  <script>\n",
              "    async function quickchart(key) {\n",
              "      const quickchartButtonEl =\n",
              "        document.querySelector('#' + key + ' button');\n",
              "      quickchartButtonEl.disabled = true;  // To prevent multiple clicks.\n",
              "      quickchartButtonEl.classList.add('colab-df-spinner');\n",
              "      try {\n",
              "        const charts = await google.colab.kernel.invokeFunction(\n",
              "            'suggestCharts', [key], {});\n",
              "      } catch (error) {\n",
              "        console.error('Error during call to suggestCharts:', error);\n",
              "      }\n",
              "      quickchartButtonEl.classList.remove('colab-df-spinner');\n",
              "      quickchartButtonEl.classList.add('colab-df-quickchart-complete');\n",
              "    }\n",
              "    (() => {\n",
              "      let quickchartButtonEl =\n",
              "        document.querySelector('#df-42bdf866-1bc2-494c-97c4-a6d9e49b64b4 button');\n",
              "      quickchartButtonEl.style.display =\n",
              "        google.colab.kernel.accessAllowed ? 'block' : 'none';\n",
              "    })();\n",
              "  </script>\n",
              "</div>\n",
              "    </div>\n",
              "  </div>\n"
            ]
          },
          "metadata": {},
          "execution_count": 45
        }
      ],
      "source": [
        "category_stimulus_matrix"
      ]
    },
    {
      "cell_type": "code",
      "execution_count": null,
      "metadata": {
        "id": "mNaUPBOJzrB_",
        "colab": {
          "base_uri": "https://localhost:8080/"
        },
        "outputId": "763242b8-f81e-4a7a-c3f2-4b1bffe2f51d"
      },
      "outputs": [
        {
          "output_type": "execute_result",
          "data": {
            "text/plain": [
              "(210, 768)"
            ]
          },
          "metadata": {},
          "execution_count": 46
        }
      ],
      "source": [
        "category_stimulus_matrix.shape"
      ]
    },
    {
      "cell_type": "code",
      "execution_count": null,
      "metadata": {
        "id": "sF4kOLlaFajL",
        "colab": {
          "base_uri": "https://localhost:8080/"
        },
        "outputId": "9f5b0c83-4ed5-4792-e5df-5412642c7247"
      },
      "outputs": [
        {
          "output_type": "stream",
          "name": "stderr",
          "text": [
            "<ipython-input-47-ba4c5c55560a>:2: DeprecationWarning: get_data() is deprecated in favor of get_fdata(), which has a more predictable return type. To obtain get_data() behavior going forward, use numpy.asanyarray(img.dataobj).\n",
            "\n",
            "* deprecated from version: 3.0\n",
            "* Will raise <class 'nibabel.deprecator.ExpiredDeprecationError'> as of version: 5.0\n",
            "  S1 = img.get_data() # subject 1\n"
          ]
        }
      ],
      "source": [
        "img = ni.load('Processed-fMRI/Group1/P1001-G1/filtered_func_data.nii.gz')\n",
        "S1 = img.get_data() # subject 1"
      ]
    },
    {
      "cell_type": "code",
      "execution_count": null,
      "metadata": {
        "id": "Ek5XFuaXAYgF",
        "colab": {
          "base_uri": "https://localhost:8080/"
        },
        "outputId": "4c8f8d34-4f36-418a-9a0c-9c502cf2c9a7"
      },
      "outputs": [
        {
          "output_type": "execute_result",
          "data": {
            "text/plain": [
              "185335"
            ]
          },
          "metadata": {},
          "execution_count": 48
        }
      ],
      "source": [
        "inactive_count = 0\n",
        "for i in range(80):\n",
        "    for j in range(80):\n",
        "        for k in range(40):\n",
        "            if np.array_equal(S1[i,j,k,:], np.zeros(210)):\n",
        "                inactive_count += 1\n",
        "inactive_count"
      ]
    },
    {
      "cell_type": "code",
      "execution_count": null,
      "metadata": {
        "id": "OmZRRlFRwPWj"
      },
      "outputs": [],
      "source": [
        "del nilearn\n",
        "del ni"
      ]
    },
    {
      "cell_type": "code",
      "execution_count": null,
      "metadata": {
        "id": "YIXfe-sGFctY"
      },
      "outputs": [],
      "source": [
        "S1_voxel_volume = np.zeros((len(S1[:,0,0,0]) * len(S1[0,:,0,0]) * len(S1[0,0,:,0]), 210)) # volumes of flatten voxels\n",
        "voxel_num = 0\n",
        "for i in range(len(S1[:,0,0,0])):\n",
        "    for j in range(len(S1[0,:,0,0])):\n",
        "         for k in range(len(S1[0,0,:,0])):\n",
        "             S1_voxel_volume[voxel_num] = S1[i,j,k,:]\n",
        "             voxel_num += 1\n",
        "del S1, img"
      ]
    },
    {
      "cell_type": "code",
      "execution_count": null,
      "metadata": {
        "id": "TqiXgUmyFcvR",
        "colab": {
          "base_uri": "https://localhost:8080/"
        },
        "outputId": "5356eb09-4b92-4654-88a1-d31d093470be"
      },
      "outputs": [
        {
          "output_type": "stream",
          "name": "stdout",
          "text": [
            "(210, 256000)\n"
          ]
        }
      ],
      "source": [
        "S1_voxel_volume = np.transpose(S1_voxel_volume)\n",
        "print(S1_voxel_volume.shape)"
      ]
    },
    {
      "cell_type": "code",
      "execution_count": null,
      "metadata": {
        "id": "jTCM486FJEK7",
        "colab": {
          "base_uri": "https://localhost:8080/"
        },
        "outputId": "922c54f9-c18c-4a01-bb58-caf4d453823c"
      },
      "outputs": [
        {
          "output_type": "stream",
          "name": "stdout",
          "text": [
            "Shape of the fMRI data:  (210, 256000)\n",
            "Shape of the category data:  (210, 768)\n"
          ]
        }
      ],
      "source": [
        "print(\"Shape of the fMRI data: \", S1_voxel_volume.shape)\n",
        "print(\"Shape of the category data: \", category_stimulus_matrix.shape)"
      ]
    },
    {
      "cell_type": "markdown",
      "metadata": {
        "id": "L22pNWIsWW2Z"
      },
      "source": [
        "Since dimensions of the rows of both sets doesn't match, I will cut half of the category stimulus matrix to make it equal to the number of volumes."
      ]
    },
    {
      "cell_type": "code",
      "execution_count": null,
      "metadata": {
        "id": "QsT6FTLRYS4J"
      },
      "outputs": [],
      "source": [
        "Y = S1_voxel_volume\n",
        "del S1_voxel_volume"
      ]
    },
    {
      "cell_type": "code",
      "execution_count": null,
      "metadata": {
        "id": "4KpZr6BRYYPb",
        "colab": {
          "base_uri": "https://localhost:8080/"
        },
        "outputId": "4571b451-2030-4145-d7a5-7dc0b27c0753"
      },
      "outputs": [
        {
          "output_type": "execute_result",
          "data": {
            "text/plain": [
              "(210, 256000)"
            ]
          },
          "metadata": {},
          "execution_count": 54
        }
      ],
      "source": [
        "Y.shape"
      ]
    },
    {
      "cell_type": "markdown",
      "metadata": {
        "id": "cSViUYbvhzWB"
      },
      "source": [
        "Creating the design matrix"
      ]
    },
    {
      "cell_type": "code",
      "execution_count": null,
      "metadata": {
        "id": "kfiAZHkZmat6"
      },
      "outputs": [],
      "source": [
        "motion_energy = pd.read_csv(\"Training/motion_energy_regressor.csv\")\n",
        "motion_energy = motion_energy.drop(\"Unnamed: 0\", axis=1)\n",
        "motion_energy = np.array(motion_energy)"
      ]
    },
    {
      "cell_type": "code",
      "execution_count": null,
      "metadata": {
        "id": "v0CJiWtUtjqK"
      },
      "outputs": [],
      "source": [
        "category_stimulus_matrix = np.array(category_stimulus_matrix)"
      ]
    },
    {
      "cell_type": "code",
      "execution_count": null,
      "metadata": {
        "id": "EON-jQRViSLk",
        "colab": {
          "base_uri": "https://localhost:8080/"
        },
        "outputId": "e8e39365-011b-4f0b-8e17-6bb2eb608c63"
      },
      "outputs": [
        {
          "output_type": "stream",
          "name": "stdout",
          "text": [
            "[[-0.6654657  -0.48104477 -0.6325384  ...  0.07992914  0.35168907\n",
            "  -0.08543956]\n",
            " [-0.6576351  -0.5168072  -0.5711402  ...  0.10801704  0.39918396\n",
            "  -0.04689047]\n",
            " [-0.56118995 -0.53433156 -0.26508498 ... -0.08134455  0.21788931\n",
            "  -0.292074  ]\n",
            " ...\n",
            " [-0.08031505 -0.70145637  0.0611441  ...  0.2445546  -0.25339267\n",
            "  -0.1771362 ]\n",
            " [-0.22340818 -0.771718   -0.05555449 ... -0.13462426 -0.05446305\n",
            "   0.33495638]\n",
            " [-0.48389828 -0.47938383 -0.15722544 ... -0.6288793  -0.36482796\n",
            "   0.6848006 ]]\n"
          ]
        },
        {
          "output_type": "stream",
          "name": "stderr",
          "text": [
            "<ipython-input-57-fdbf11d31c38>:1: DeprecationWarning: Please use `shift` from the `scipy.ndimage` namespace, the `scipy.ndimage.interpolation` namespace is deprecated.\n",
            "  from scipy.ndimage.interpolation import shift\n"
          ]
        }
      ],
      "source": [
        "from scipy.ndimage.interpolation import shift\n",
        "X = category_stimulus_matrix.copy()\n",
        "delayed_category_stimulus_matrix = []\n",
        "print(X)\n",
        "for col_i in range(X.shape[1]): # for each category\n",
        "    tr1 = shift(X[:,col_i], 1, cval=0)\n",
        "    tr2 = shift(X[:,col_i], 2, cval=0)\n",
        "    tr3 = shift(X[:,col_i], 3, cval=0)\n",
        "    tr4 = shift(X[:,col_i], 4, cval=0)\n",
        "    delayed_category_stimulus_matrix.append(tr1)\n",
        "    delayed_category_stimulus_matrix.append(tr2)\n",
        "    delayed_category_stimulus_matrix.append(tr3)\n",
        "    delayed_category_stimulus_matrix.append(tr4)\n",
        "\n",
        "delayed_category_stimulus_matrix= np.transpose(np.array(delayed_category_stimulus_matrix))"
      ]
    },
    {
      "cell_type": "code",
      "execution_count": null,
      "metadata": {
        "id": "Vx9IN5goiYOA",
        "colab": {
          "base_uri": "https://localhost:8080/"
        },
        "outputId": "413aa5fa-fa0e-4c4e-95c9-8d674d5c4138"
      },
      "outputs": [
        {
          "output_type": "execute_result",
          "data": {
            "text/plain": [
              "<bound method NDFrame.head of          0         1         2         3         4         5         6     \\\n",
              "0    0.000000  0.000000  0.000000  0.000000  0.000000  0.000000  0.000000   \n",
              "1   -0.665466  0.000000  0.000000  0.000000 -0.481045  0.000000  0.000000   \n",
              "2   -0.657635 -0.665466  0.000000  0.000000 -0.516807 -0.481045  0.000000   \n",
              "3   -0.561190 -0.657635 -0.665466  0.000000 -0.534332 -0.516807 -0.481045   \n",
              "4    0.171892 -0.561190 -0.657635 -0.665466 -0.600783 -0.534332 -0.516807   \n",
              "..        ...       ...       ...       ...       ...       ...       ...   \n",
              "205 -0.280553 -0.555010 -0.477663  0.100948 -0.391741 -0.522760 -0.647146   \n",
              "206 -0.579371 -0.280553 -0.555010 -0.477663 -0.571055 -0.391741 -0.522760   \n",
              "207 -0.680357 -0.579371 -0.280553 -0.555010 -0.669746 -0.571055 -0.391741   \n",
              "208 -0.080315 -0.680357 -0.579371 -0.280553 -0.701456 -0.669746 -0.571055   \n",
              "209 -0.223408 -0.080315 -0.680357 -0.579371 -0.771718 -0.701456 -0.669746   \n",
              "\n",
              "         7         8         9     ...      3062      3063      3064  \\\n",
              "0    0.000000  0.000000  0.000000  ...  0.000000  0.000000  0.000000   \n",
              "1    0.000000 -0.632538  0.000000  ...  0.000000  0.000000  0.351689   \n",
              "2    0.000000 -0.571140 -0.632538  ...  0.000000  0.000000  0.399184   \n",
              "3    0.000000 -0.265085 -0.571140  ...  0.079929  0.000000  0.217889   \n",
              "4   -0.481045  0.122656 -0.265085  ...  0.108017  0.079929  0.259384   \n",
              "..        ...       ...       ...  ...       ...       ...       ...   \n",
              "205 -0.044294 -0.059650  0.060738  ... -0.057113  0.037748  0.030767   \n",
              "206 -0.647146 -0.274274 -0.059650  ... -0.241890 -0.057113 -0.278781   \n",
              "207 -0.522760 -0.004662 -0.274274  ... -0.039522 -0.241890  0.279103   \n",
              "208 -0.391741  0.061144 -0.004662  ... -0.145637 -0.039522 -0.253393   \n",
              "209 -0.571055 -0.055554  0.061144  ... -0.091723 -0.145637 -0.054463   \n",
              "\n",
              "         3065      3066      3067      3068      3069      3070      3071  \n",
              "0    0.000000  0.000000  0.000000  0.000000  0.000000  0.000000  0.000000  \n",
              "1    0.000000  0.000000  0.000000 -0.085440  0.000000  0.000000  0.000000  \n",
              "2    0.351689  0.000000  0.000000 -0.046890 -0.085440  0.000000  0.000000  \n",
              "3    0.399184  0.351689  0.000000 -0.292074 -0.046890 -0.085440  0.000000  \n",
              "4    0.217889  0.399184  0.351689 -0.089665 -0.292074 -0.046890 -0.085440  \n",
              "..        ...       ...       ...       ...       ...       ...       ...  \n",
              "205  0.042706  0.122451  0.577315 -0.380816 -0.037539 -0.352148 -0.868180  \n",
              "206  0.030767  0.042706  0.122451  0.064999 -0.380816 -0.037539 -0.352148  \n",
              "207 -0.278781  0.030767  0.042706 -0.251078  0.064999 -0.380816 -0.037539  \n",
              "208  0.279103 -0.278781  0.030767 -0.177136 -0.251078  0.064999 -0.380816  \n",
              "209 -0.253393  0.279103 -0.278781  0.334956 -0.177136 -0.251078  0.064999  \n",
              "\n",
              "[210 rows x 3072 columns]>"
            ]
          },
          "metadata": {},
          "execution_count": 58
        }
      ],
      "source": [
        "pd.DataFrame(delayed_category_stimulus_matrix).head"
      ]
    },
    {
      "cell_type": "code",
      "execution_count": null,
      "metadata": {
        "id": "w9FpsRzMhpoQ"
      },
      "outputs": [],
      "source": [
        "design_matrix = delayed_category_stimulus_matrix"
      ]
    },
    {
      "cell_type": "code",
      "execution_count": null,
      "metadata": {
        "id": "4kA-sxrIGqdy",
        "colab": {
          "base_uri": "https://localhost:8080/"
        },
        "outputId": "cc469457-a8f5-4b2e-8f68-1373b7462f6c"
      },
      "outputs": [
        {
          "output_type": "execute_result",
          "data": {
            "text/plain": [
              "(210, 3079)"
            ]
          },
          "metadata": {},
          "execution_count": 60
        }
      ],
      "source": [
        "# design_matrix = pd.read_csv(\"Training/FIR_design_matrix.csv\")\n",
        "# design_matrix.drop([\"Unnamed: 0\"], axis=1, inplace=True)\n",
        "\n",
        "with open('Processed-fMRI/Group1/P1001-G1/1001_prefiltered_func_data_mcf.par','r') as f:\n",
        "\tlistl=[]\n",
        "\tfor line in f:\n",
        "\t\tstrip_lines=line.strip()\n",
        "\t\tlistli=strip_lines.split()\n",
        "\t\tm=listl.append(listli)\n",
        "\n",
        "\n",
        "parameters = np.array(listl)\n",
        "\n",
        "# parameters[:,0].shape\n",
        "\n",
        "# design_matrix[\"tx = parameters[:,0].astype(np.float64)\n",
        "design_matrix = np.column_stack((design_matrix, parameters[:,0].astype(np.float64)))\n",
        "design_matrix = np.column_stack((design_matrix, parameters[:,1].astype(np.float64)))\n",
        "design_matrix = np.column_stack((design_matrix, parameters[:,2].astype(np.float64)))\n",
        "design_matrix = np.column_stack((design_matrix, parameters[:,3].astype(np.float64)))\n",
        "design_matrix = np.column_stack((design_matrix, parameters[:,4].astype(np.float64)))\n",
        "design_matrix = np.column_stack((design_matrix, parameters[:,5].astype(np.float64)))\n",
        "design_matrix = np.column_stack((design_matrix, motion_energy))\n",
        "\n",
        "# Do drift and constant\n",
        "\n",
        "design_matrix.shape"
      ]
    },
    {
      "cell_type": "code",
      "execution_count": null,
      "metadata": {
        "id": "_VSw6cgBmX6t"
      },
      "outputs": [],
      "source": [
        "design_matrix_df = design_matrix.copy()"
      ]
    },
    {
      "cell_type": "code",
      "source": [
        "print(type(design_matrix))"
      ],
      "metadata": {
        "colab": {
          "base_uri": "https://localhost:8080/"
        },
        "id": "vBRrcnsmcSRT",
        "outputId": "c2b89ab5-ceef-4e20-b848-723dc9f1b1f8"
      },
      "execution_count": null,
      "outputs": [
        {
          "output_type": "stream",
          "name": "stdout",
          "text": [
            "<class 'numpy.ndarray'>\n"
          ]
        }
      ]
    },
    {
      "cell_type": "markdown",
      "metadata": {
        "id": "ysp4avNsGYlZ"
      },
      "source": [
        "S1_voxel_volume has each volume as rows and each voxel as columns for subject 1. We will use that to train the model."
      ]
    },
    {
      "cell_type": "markdown",
      "metadata": {
        "id": "g5i-X5YFFnYX"
      },
      "source": [
        "# Model training (nested monte carlo cv)\n",
        "\n"
      ]
    },
    {
      "cell_type": "markdown",
      "metadata": {
        "id": "4un8pkeNAx8_"
      },
      "source": [
        "First, I will group similar stimuli and they will go to the same set (either train or test)"
      ]
    },
    {
      "cell_type": "code",
      "execution_count": null,
      "metadata": {
        "id": "VRxPsXYp5HgG",
        "colab": {
          "base_uri": "https://localhost:8080/"
        },
        "outputId": "928fb549-4825-4303-8508-11c8498e4bfa"
      },
      "outputs": [
        {
          "output_type": "stream",
          "name": "stdout",
          "text": [
            "(210, 768)\n"
          ]
        },
        {
          "output_type": "execute_result",
          "data": {
            "text/plain": [
              "[[149, 150]]"
            ]
          },
          "metadata": {},
          "execution_count": 63
        }
      ],
      "source": [
        "# IF IT'S EXACTLY THE SAME\n",
        "\n",
        "volumes_seen = [] # indices\n",
        "groups = [] # [[vol1, vol2], [vol3, vol4]] if first three volumes are very similar. If they are similar to the first volume\n",
        "\n",
        "print(category_stimulus_matrix.shape)\n",
        "for vol_i in range(category_stimulus_matrix.shape[0]):\n",
        "    # for every volume in matrix\n",
        "    for vol2_i in range(vol_i, category_stimulus_matrix.shape[0]):\n",
        "        # for every other volume\n",
        "        if vol_i != vol2_i:\n",
        "            if np.array_equal(category_stimulus_matrix[vol_i, :], category_stimulus_matrix[vol2_i, :]):\n",
        "                groups.append([vol_i, vol2_i])\n",
        "\n",
        "    volumes_seen.append(vol_i)\n",
        "\n",
        "groups"
      ]
    },
    {
      "cell_type": "code",
      "execution_count": null,
      "metadata": {
        "id": "t81q8YkBISiM"
      },
      "outputs": [],
      "source": [
        "new_groups = {} # key is the first element encountered and followed with array that has similar stimuli to that\n",
        "\n",
        "for group in reversed(groups):\n",
        "    key_found, value_found = False, False\n",
        "    found_key = None # correct key if the value was found\n",
        "\n",
        "    for key, values in new_groups.items():\n",
        "        # checks if the element was already in the dictionary\n",
        "        if group[0] == key:\n",
        "            key_found = True\n",
        "            break\n",
        "\n",
        "    if key_found == False and value_found == False:\n",
        "        new_groups[group[0]] = [group[0], group[1]]\n",
        "    elif value_found == True:\n",
        "        new_groups[found_key].append(group[1])\n",
        "    elif key_found == True:\n",
        "        new_groups[group[0]].append(group[1])\n",
        "\n",
        "\n",
        "keys, keys_and_values = [], []\n",
        "for key, value in new_groups.items():\n",
        "    keys.append(key)\n",
        "    keys_and_values.append([key, value])\n",
        "\n",
        "for key in keys:\n",
        "    for key2, values in keys_and_values:\n",
        "        for value in values:\n",
        "            if key != key2 and key == value:\n",
        "                new_groups.pop(key, None)\n",
        "\n",
        "\n",
        "final_groups = list(new_groups.values())\n",
        "\n",
        "for i in range(210):\n",
        "    if not any(i in x for x in final_groups):\n",
        "        final_groups.append([i])\n"
      ]
    },
    {
      "cell_type": "markdown",
      "metadata": {
        "id": "hujH7YyfOxUb"
      },
      "source": [
        "Pieces of code below were for only finding the SAME stimuli"
      ]
    },
    {
      "cell_type": "code",
      "execution_count": null,
      "metadata": {
        "id": "dqV_a6eeJN0s",
        "colab": {
          "base_uri": "https://localhost:8080/"
        },
        "outputId": "87f9d799-b789-4764-cfc9-71508f445a33"
      },
      "outputs": [
        {
          "output_type": "stream",
          "name": "stdout",
          "text": [
            "[  0   1   2   3   4   6   7   8   9  10  11  13  14  15  16  17  18  19\n",
            "  20  21  22  23  24  25  26  27  29  30  31  32  33  34  35  36  37  38\n",
            "  39  41  42  43  44  45  46  47  48  49  53  54  55  56  57  58  59  60\n",
            "  61  62  63  64  65  66  67  68  69  70  71  72  73  74  75  76  77  78\n",
            "  80  82  83  84  85  87  88  89  90  91  92  93  94  95  97  98  99 100\n",
            " 101 102 104 105 108 109 110 112 113 114 115 116 117 118 119 120 121 122\n",
            " 123 124 126 127 128 129 130 131 132 133 136 137 140 141 142 144 145 146\n",
            " 147 148 151 152 153 154 155 156 157 158 159 160 161 162 163 164 165 166\n",
            " 167 168 169 170 171 172 173 176 177 178 179 180 182 183 184 185 186 187\n",
            " 188 190 191 192 196 198 199 202 203 204 205 206 207 208 209]\n",
            "[149 150   5  12  28  40  50  51  52  79  81  86  96 103 106 107 111 125\n",
            " 134 135 138 139 143 174 175 181 189 193 194 195 197 200 201]\n",
            "177 33\n"
          ]
        }
      ],
      "source": [
        "import random\n",
        "def custom_train_test_split():\n",
        "    # This takes account of the same stimuli and groups them together\n",
        "    train_idx = []\n",
        "    test_idx = []\n",
        "    val_idx = []\n",
        "\n",
        "    for group in final_groups:\n",
        "        rand_num = random.random()\n",
        "        if rand_num < 0.10:\n",
        "            for index in group:\n",
        "                test_idx.append(index)\n",
        "        # elif rand_num >= 0.10 and rand_num < 0.15:\n",
        "          #   for index in group:\n",
        "            #    val_idx.append(index)\n",
        "        else:\n",
        "            for index in group:\n",
        "                train_idx.append(index)\n",
        "\n",
        "    for i in test_idx:\n",
        "        if i in train_idx:\n",
        "            test_idx.remove(i)\n",
        "\n",
        "    #for i in val_idx:\n",
        "     #   if i in train_idx:\n",
        "      #      train_idx.remove(i)\n",
        "\n",
        "    #for i in val_idx:\n",
        "     #   if i in test_idx:\n",
        "      #      val_idx.remove(i)\n",
        "\n",
        "\n",
        "    return np.array(train_idx), np.array(test_idx)\n",
        "\n",
        "\n",
        "train_idx, test_idx = custom_train_test_split()\n",
        "\n",
        "\n",
        "print(train_idx)\n",
        "print(test_idx)\n",
        "\n",
        "print(len(train_idx), len(test_idx))\n",
        "\n",
        "for i in range(210):\n",
        "    if i not in train_idx and i not in test_idx:\n",
        "        print(i, \" is not in there\")\n",
        "\n",
        "dict_ = {}\n",
        "for i in train_idx:\n",
        "    if i in dict_.keys():\n",
        "        dict_[i] += 1\n",
        "    else:\n",
        "        dict_[i] = 1\n",
        "\n",
        "for i in test_idx:\n",
        "    if i in dict_.keys():\n",
        "        dict_[i] += 1\n",
        "    else:\n",
        "        dict_[i] = 1\n",
        "dict_\n",
        "\n",
        "for i in range(210):\n",
        "    if i not in dict_.keys():\n",
        "        print(i, \"i not in there\")\n"
      ]
    },
    {
      "cell_type": "code",
      "execution_count": null,
      "metadata": {
        "id": "y0NAjhek6tIS",
        "colab": {
          "base_uri": "https://localhost:8080/"
        },
        "outputId": "cea06f6c-2bc2-4f82-dfcb-0ff0f08d9440"
      },
      "outputs": [
        {
          "output_type": "stream",
          "name": "stdout",
          "text": [
            "210\n",
            "[  0   1   2   3   4   5   6   7   8   9  10  11  12  13  14  15  16  17\n",
            "  18  19  20  21  22  23  24  25  26  27  28  29  30  31  32  33  34  35\n",
            "  36  37  38  39  40  41  42  43  44  45  46  47  48  49  50  51  52  53\n",
            "  54  55  56  57  58  59  60  61  62  63  64  65  66  67  68  69  75  76\n",
            "  77  78  79  80  81  82  83  84  85  86  87  88  89  90  91  92  93  94\n",
            "  95  96  97  98  99 100 101 102 103 104 105 106 107 108 109 110 111 112\n",
            " 113 114 115 116 117 118 119 120 121 122 123 124 130 131 132 133 134 135\n",
            " 136 137 138 139 145 146 147 148 149 150 151 152 153 154 155 156 157 158\n",
            " 159 160 161 162 163 164 165 166 167 168 169 170 171 172 173 174 175 176\n",
            " 177 178 179 185 186 187 188 189 190 191 192 193 194 195 196 197 198 199\n",
            " 200 201 202 203 204 205 206 207 208 209]\n",
            "[ 70  71  72  73  74 125 126 127 128 129 140 141 142 143 144 180 181 182\n",
            " 183 184]\n",
            "190 20\n"
          ]
        }
      ],
      "source": [
        "import random\n",
        "import math\n",
        "def train_test_split_by_time(X):\n",
        "    train_idx = []\n",
        "    test_idx = []\n",
        "\n",
        "    # divide into timestamps\n",
        "    n_splits = 5\n",
        "    TR_divided_into_timestamps = []\n",
        "    print(X.shape[0])\n",
        "    curr_timestamps = []\n",
        "    for i in range(X.shape[0]):\n",
        "        if i != 0 and i % n_splits == 0:\n",
        "            TR_divided_into_timestamps.append(curr_timestamps)\n",
        "            curr_timestamps = [i]\n",
        "        else:\n",
        "            curr_timestamps.append(i)\n",
        "    # TR_divided_into_timestamps.append([X.shape[0]-3, X.shape[0]-2, X.shape[0]-1])\n",
        "    TR_divided_into_timestamps.append([X.shape[0]-5, X.shape[0]-4, X.shape[0]-3, X.shape[0]-2, X.shape[0]-1])\n",
        "\n",
        "    # I will split 90% train and 10% test\n",
        "    n_timestamps = len(TR_divided_into_timestamps) # 210 / n_splits\n",
        "    # 7 of them are going to test set.\n",
        "    test_timestamps_idx = set()\n",
        "    while len(test_timestamps_idx) != math.floor(len(TR_divided_into_timestamps)/10):\n",
        "        test_timestamps_idx.add(random.randrange(len(TR_divided_into_timestamps)))\n",
        "\n",
        "    test_timestamps_idx = list(test_timestamps_idx)\n",
        "    for i in range(len(TR_divided_into_timestamps)): # 70\n",
        "        if i not in test_timestamps_idx:\n",
        "            for j in range(n_splits):\n",
        "                train_idx.append(TR_divided_into_timestamps[i][j])\n",
        "        else:\n",
        "            for j in range(n_splits):\n",
        "                test_idx.append(TR_divided_into_timestamps[i][j])\n",
        "\n",
        "\n",
        "    return np.array(train_idx), np.array(test_idx)\n",
        "\n",
        "\n",
        "train_idx, test_idx = train_test_split_by_time(X)\n",
        "\n",
        "print(train_idx)\n",
        "print(test_idx)\n",
        "\n",
        "print(len(train_idx), len(test_idx))\n",
        "\n",
        "for i in range(210):\n",
        "    if i not in train_idx and i not in test_idx:\n",
        "        print(i, \" is not in there\")\n",
        "\n",
        "dict_ = {}\n",
        "for i in train_idx:\n",
        "    if i in dict_.keys():\n",
        "        dict_[i] += 1\n",
        "    else:\n",
        "        dict_[i] = 1\n",
        "\n",
        "for i in test_idx:\n",
        "    if i in dict_.keys():\n",
        "        dict_[i] += 1\n",
        "    else:\n",
        "        dict_[i] = 1\n",
        "dict_\n",
        "\n",
        "for i in range(210):\n",
        "    if i not in dict_.keys():\n",
        "        print(i, \"i not in there\")"
      ]
    },
    {
      "cell_type": "code",
      "execution_count": null,
      "metadata": {
        "id": "s-jbSQ6aY5I6"
      },
      "outputs": [],
      "source": [
        "import random"
      ]
    },
    {
      "cell_type": "markdown",
      "metadata": {
        "id": "qHUM8uTV4XIy"
      },
      "source": [
        "Posterior is proportional to (likelihood * prior). The likelihood we are calculating below is actually the posterior (figure S2 of Nishimoto 2011 supplemental)"
      ]
    },
    {
      "cell_type": "markdown",
      "metadata": {
        "id": "OOGu--N2_bj4"
      },
      "source": [
        "How to use correlation coefficients we gathered across samples to get a single correlation coefficient. https://www.statology.org/fisher-z-transformation/"
      ]
    },
    {
      "cell_type": "code",
      "execution_count": null,
      "metadata": {
        "id": "eQmcfaf5rGfK"
      },
      "outputs": [],
      "source": [
        "# Y is (210, 256000)\n",
        "active_voxel_indeces = [] # indeces of the voxel that have at least one activation during 210 volumes.\n",
        "for voxel_i in range(256000):\n",
        "    active = False\n",
        "    for vol in range(210):\n",
        "        if Y[vol, voxel_i] != 0:\n",
        "            active = True\n",
        "            break\n",
        "    if active:\n",
        "        active_voxel_indeces.append(voxel_i)\n",
        "\n",
        "len(active_voxel_indeces)\n",
        "\n",
        "Y = Y[:, active_voxel_indeces]"
      ]
    },
    {
      "cell_type": "code",
      "execution_count": null,
      "metadata": {
        "id": "reubbpRDdxmU"
      },
      "outputs": [],
      "source": [
        "# from sklearn.preprocessing import StandardScaler\n",
        "# scaler = StandardScaler()\n",
        "# design_matrix = scaler.fit_transform(design_matrix)"
      ]
    },
    {
      "cell_type": "code",
      "execution_count": null,
      "metadata": {
        "id": "22eybYv6KCbl",
        "colab": {
          "base_uri": "https://localhost:8080/"
        },
        "outputId": "b32ab9a8-1f34-4bab-c682-65fcd5b58b22"
      },
      "outputs": [
        {
          "output_type": "stream",
          "name": "stdout",
          "text": [
            "(210, 3079)\n"
          ]
        }
      ],
      "source": [
        "print(design_matrix.shape)"
      ]
    },
    {
      "cell_type": "code",
      "source": [
        "a = \"CL{}\".format(2)\n",
        "a"
      ],
      "metadata": {
        "colab": {
          "base_uri": "https://localhost:8080/",
          "height": 35
        },
        "id": "PgvLLbp5kbqp",
        "outputId": "a8b5b1a8-c6e0-4977-878d-d0e07c361b7d"
      },
      "execution_count": null,
      "outputs": [
        {
          "output_type": "execute_result",
          "data": {
            "text/plain": [
              "'CL2'"
            ],
            "application/vnd.google.colaboratory.intrinsic+json": {
              "type": "string"
            }
          },
          "metadata": {},
          "execution_count": 71
        }
      ]
    },
    {
      "cell_type": "code",
      "execution_count": null,
      "metadata": {
        "id": "wOGfhKy7KFHj",
        "colab": {
          "base_uri": "https://localhost:8080/"
        },
        "outputId": "7196f29d-9c4e-4bae-b126-c73bdf38cd2f"
      },
      "outputs": [
        {
          "output_type": "stream",
          "name": "stdout",
          "text": [
            "(210, 768)\n"
          ]
        }
      ],
      "source": [
        "print(X.shape)"
      ]
    },
    {
      "cell_type": "markdown",
      "metadata": {
        "id": "htY-6SdTFszI"
      },
      "source": [
        "Running PCA on X to match the number of features with word2vec"
      ]
    },
    {
      "cell_type": "code",
      "execution_count": null,
      "metadata": {
        "id": "euUJWpNNFsXQ",
        "colab": {
          "base_uri": "https://localhost:8080/",
          "height": 53
        },
        "outputId": "06d0b938-ed8d-4f1e-b426-47e8b8e76025"
      },
      "outputs": [
        {
          "output_type": "execute_result",
          "data": {
            "text/plain": [
              "'\\n# PCA to make X 300 dimensional\\nprint(X.shape)\\nfrom sklearn.decomposition import PCA\\npca = PCA(n_components=30)\\nX = pca.fit_transform(X)\\n\\nprint(X.shape)\\n'"
            ],
            "application/vnd.google.colaboratory.intrinsic+json": {
              "type": "string"
            }
          },
          "metadata": {},
          "execution_count": 73
        }
      ],
      "source": [
        "\"\"\"\n",
        "# PCA to make X 300 dimensional\n",
        "print(X.shape)\n",
        "from sklearn.decomposition import PCA\n",
        "pca = PCA(n_components=30)\n",
        "X = pca.fit_transform(X)\n",
        "\n",
        "print(X.shape)\n",
        "\"\"\""
      ]
    },
    {
      "cell_type": "code",
      "source": [
        "print(pd.DataFrame(design_matrix))"
      ],
      "metadata": {
        "colab": {
          "base_uri": "https://localhost:8080/"
        },
        "id": "dxZ-nEdZ1Fs1",
        "outputId": "b44d8ec4-8e35-4881-8157-ba87057ab3c9"
      },
      "execution_count": null,
      "outputs": [
        {
          "output_type": "stream",
          "name": "stdout",
          "text": [
            "         0         1         2         3         4         5         6     \\\n",
            "0    0.000000  0.000000  0.000000  0.000000  0.000000  0.000000  0.000000   \n",
            "1   -0.665466  0.000000  0.000000  0.000000 -0.481045  0.000000  0.000000   \n",
            "2   -0.657635 -0.665466  0.000000  0.000000 -0.516807 -0.481045  0.000000   \n",
            "3   -0.561190 -0.657635 -0.665466  0.000000 -0.534332 -0.516807 -0.481045   \n",
            "4    0.171892 -0.561190 -0.657635 -0.665466 -0.600783 -0.534332 -0.516807   \n",
            "..        ...       ...       ...       ...       ...       ...       ...   \n",
            "205 -0.280553 -0.555010 -0.477663  0.100948 -0.391741 -0.522760 -0.647146   \n",
            "206 -0.579371 -0.280553 -0.555010 -0.477663 -0.571055 -0.391741 -0.522760   \n",
            "207 -0.680357 -0.579371 -0.280553 -0.555010 -0.669746 -0.571055 -0.391741   \n",
            "208 -0.080315 -0.680357 -0.579371 -0.280553 -0.701456 -0.669746 -0.571055   \n",
            "209 -0.223408 -0.080315 -0.680357 -0.579371 -0.771718 -0.701456 -0.669746   \n",
            "\n",
            "         7         8         9     ...      3069      3070      3071  \\\n",
            "0    0.000000  0.000000  0.000000  ...  0.000000  0.000000  0.000000   \n",
            "1    0.000000 -0.632538  0.000000  ...  0.000000  0.000000  0.000000   \n",
            "2    0.000000 -0.571140 -0.632538  ... -0.085440  0.000000  0.000000   \n",
            "3    0.000000 -0.265085 -0.571140  ... -0.046890 -0.085440  0.000000   \n",
            "4   -0.481045  0.122656 -0.265085  ... -0.292074 -0.046890 -0.085440   \n",
            "..        ...       ...       ...  ...       ...       ...       ...   \n",
            "205 -0.044294 -0.059650  0.060738  ... -0.037539 -0.352148 -0.868180   \n",
            "206 -0.647146 -0.274274 -0.059650  ... -0.380816 -0.037539 -0.352148   \n",
            "207 -0.522760 -0.004662 -0.274274  ...  0.064999 -0.380816 -0.037539   \n",
            "208 -0.391741  0.061144 -0.004662  ... -0.251078  0.064999 -0.380816   \n",
            "209 -0.571055 -0.055554  0.061144  ... -0.177136 -0.251078  0.064999   \n",
            "\n",
            "         3072      3073      3074      3075      3076      3077      3078  \n",
            "0    0.000491 -0.001723 -0.001639 -0.193051 -0.066117  0.246499  0.305783  \n",
            "1    0.000839 -0.002079 -0.001639 -0.175780 -0.060867  0.227643  0.184947  \n",
            "2    0.000930 -0.002160 -0.001265 -0.193046 -0.185843  0.219344  0.702451  \n",
            "3    0.000014 -0.001778 -0.001639 -0.193086 -0.005344  0.233412  2.625730  \n",
            "4    0.000572 -0.001838 -0.001239 -0.173496 -0.071527  0.223906  2.042825  \n",
            "..        ...       ...       ...       ...       ...       ...       ...  \n",
            "205 -0.000064 -0.001184  0.000490 -0.000678 -0.088322 -0.111308  2.182120  \n",
            "206 -0.000144 -0.001159  0.000543  0.004704 -0.040738 -0.134178  2.716804  \n",
            "207 -0.000143 -0.000975  0.000331 -0.005090 -0.075660 -0.135850  0.845858  \n",
            "208  0.000151 -0.001182  0.000481 -0.002357 -0.075726 -0.125116  0.185247  \n",
            "209 -0.000333 -0.001186  0.000387 -0.000203 -0.123116 -0.105093  0.268500  \n",
            "\n",
            "[210 rows x 3079 columns]\n"
          ]
        }
      ]
    },
    {
      "cell_type": "markdown",
      "metadata": {
        "id": "wHfdJ1Go01FQ"
      },
      "source": [
        "Actual model training"
      ]
    },
    {
      "cell_type": "code",
      "source": [
        "len(test_idx)"
      ],
      "metadata": {
        "colab": {
          "base_uri": "https://localhost:8080/"
        },
        "id": "WH17AewTb5g5",
        "outputId": "1e33fce1-2fc4-4470-f8c5-00070a8324d7"
      },
      "execution_count": null,
      "outputs": [
        {
          "output_type": "execute_result",
          "data": {
            "text/plain": [
              "20"
            ]
          },
          "metadata": {},
          "execution_count": 75
        }
      ]
    },
    {
      "cell_type": "code",
      "source": [
        "test_idx[0]"
      ],
      "metadata": {
        "colab": {
          "base_uri": "https://localhost:8080/"
        },
        "id": "zHpHppJ9b92u",
        "outputId": "7b46aa68-1d2c-4599-e4a1-320215f0f082"
      },
      "execution_count": null,
      "outputs": [
        {
          "output_type": "execute_result",
          "data": {
            "text/plain": [
              "70"
            ]
          },
          "metadata": {},
          "execution_count": 76
        }
      ]
    },
    {
      "cell_type": "code",
      "source": [
        "dict_all_preds = {} # {TR0 : [appending total r^2 calculated on correlation of all voxel's correlation]}\n",
        "for i in range(210):\n",
        "    dict_all_preds[i] = []\n",
        "\n"
      ],
      "metadata": {
        "id": "7LER7JaWarFb"
      },
      "execution_count": null,
      "outputs": []
    },
    {
      "cell_type": "code",
      "execution_count": null,
      "metadata": {
        "colab": {
          "base_uri": "https://localhost:8080/"
        },
        "id": "74-NReINVxDj",
        "outputId": "74a7200d-3146-40fe-e901-cc46f8687393"
      },
      "outputs": [
        {
          "output_type": "stream",
          "name": "stdout",
          "text": [
            "210\n",
            "[ 45  46  47  48  49  55  56  57  58  59 125 126 127 128 129 145 146 147\n",
            " 148 149]\n",
            "(20, 70665)\n",
            "2948\n",
            "210\n",
            "[ 35  36  37  38  39 110 111 112 113 114 135 136 137 138 139 160 161 162\n",
            " 163 164]\n",
            "(20, 70665)\n",
            "5594\n",
            "210\n",
            "[ 25  26  27  28  29  35  36  37  38  39 145 146 147 148 149 170 171 172\n",
            " 173 174]\n",
            "(20, 70665)\n",
            "4138\n"
          ]
        }
      ],
      "source": [
        "# cv = KFold(n_splits=10, shuffle=True, random_state=1)\n",
        "from sklearn.metrics import r2_score\n",
        "from sklearn.model_selection import GridSearchCV\n",
        "from sklearn.preprocessing import StandardScaler\n",
        "import sys\n",
        "np.set_printoptions(threshold=sys.maxsize)\n",
        "\n",
        "n_active_voxel = len(active_voxel_indeces)\n",
        "R2_scores_design = [] # R2 scores\n",
        "# r_scores_design = np.zeros((10, 256000)) # pearson's correlation coefficient r scores. 10 is the number of folds and 256000 is the number of voxels\n",
        "r_scores_sum = np.zeros(n_active_voxel)\n",
        "p_values_design = np.zeros((10, n_active_voxel)) # p values of the pearson's correlation coefficient test\n",
        "r2_scores = np.zeros(10)\n",
        "alphas = [0.0000001, 0.000001, 0.00001, 0.0001, 0.001, 0.01, 0.1, 0.5, 1, 5, 10]\n",
        "alphas_dict = {\"alpha\":alphas}\n",
        "weights_sum = np.zeros((n_active_voxel, design_matrix.shape[1]))\n",
        "\n",
        "\n",
        "iterations = 3\n",
        "fold_num = 0\n",
        "\n",
        "correct_identification = 0\n",
        "incorrect_identification = 0\n",
        "\n",
        "got_neg_example = False\n",
        "got_pos_example = False\n",
        "random.seed(100)\n",
        "# for train, test in cv.split(X=design_matrix):\n",
        "for iter in range(iterations):\n",
        "\n",
        "    train_idx, test_idx = train_test_split_by_time(X)\n",
        "    print(test_idx)\n",
        "    # create a ridge model\n",
        "    # model = RidgeCV(alphas=alphas, cv=5)\n",
        "    # model = RidgeCV(alphas=alphas, alpha_per_target=True)\n",
        "    estimator = Ridge(solver='svd')\n",
        "    model = GridSearchCV(estimator, alphas_dict, n_jobs=-1, cv=5, scoring='neg_mean_squared_error')\n",
        "\n",
        "    # X_train, X_test, y_train, y_test = train_test_split(design_matrix, Y, test_size=0.3)  # This is a custom function.\n",
        "\n",
        "\n",
        "    X_train = design_matrix[train_idx,:]\n",
        "    y_train = Y[train_idx,:]\n",
        "    X_test = design_matrix[test_idx,:]\n",
        "    y_test = Y[test_idx,:]\n",
        "\n",
        "    # Normalize Xs\n",
        "    #scaler = StandardScaler()\n",
        "    #X_train = scaler.fit_transform(X_train)\n",
        "    #X_test = scaler.transform(X_test)\n",
        "\n",
        "    # Normalize Ys\n",
        "    scaler = StandardScaler()\n",
        "    y_train = scaler.fit_transform(y_train)\n",
        "    y_test = scaler.transform(y_test)\n",
        "\n",
        "    # category_stimulus_matrix = StandardScaler().fit_transform(category_stimulus_matrix)\n",
        "\n",
        "    # train the Ridge model on the training set\n",
        "    # model_design.fit(design_matrix[train], Y[train]) # fitting model without hemodynamic delay\n",
        "    model.fit(X_train, y_train) # fitting model without hemodynamic delay\n",
        "\n",
        "    # print(model.best_estimator_.coef_.shape)\n",
        "\n",
        "    # and predict the fMRI activity for the test set\n",
        "\n",
        "    # remove motion parameters\n",
        "\n",
        "    without_motion = X_test.copy()\n",
        "    without_motion[:,-1] = 0\n",
        "\n",
        "    predictions_design = model.predict(without_motion)\n",
        "    print(predictions_design.shape)\n",
        "\n",
        "    for j in range(len(test_idx)):\n",
        "        pearson_r, p_value = scipy.stats.pearsonr(y_test[j,:], predictions_design[j,:])\n",
        "        if np.isnan(pearson_r):\n",
        "            pearson_r = 0\n",
        "        dict_all_preds[j] = pearson_r\n",
        "\n",
        "\n",
        "    significant_voxel_indices = []\n",
        "\n",
        "    for i in range(n_active_voxel): # for each voxel\n",
        "        pearson_r, p_value = scipy.stats.pearsonr(y_test[:,i], predictions_design[:,i])\n",
        "        if np.isnan(pearson_r):\n",
        "            pearson_r = 0\n",
        "\n",
        "        # r_scores_design[iter, i] = z\n",
        "        r_scores_sum[i] += pearson_r\n",
        "        # p_values_design[iter, i] = p_value\n",
        "\n",
        "\n",
        "        ## GET A negative EXAMPLE FOR VISUALIZATION\n",
        "\n",
        "        if p_value < 0.05 and pearson_r < 0 and got_neg_example == False:\n",
        "            example_neg_prediction = predictions_design[:, i]\n",
        "            example_neg_true = y_test[:, i]\n",
        "            example_neg_r = pearson_r\n",
        "            got_neg_example = True\n",
        "\n",
        "        if p_value < 0.05 and pearson_r > 0:\n",
        "            significant_voxel_indices.append(i)\n",
        "\n",
        "        if p_value < 0.05 and pearson_r > 0 and got_pos_example == False:\n",
        "            example__pos_prediction = predictions_design[:, i]\n",
        "            example_pos_true = y_test[:, i]\n",
        "            example_pos_r = pearson_r\n",
        "            got_pos_example = True\n",
        "            # print(\"YES\", pearson_r)\n",
        "        # else:\n",
        "            # print(\"NO\", pearson_r)\n",
        "\n",
        "    print(len(significant_voxel_indices))\n",
        "\n",
        "\n",
        "    # To get the r squared score, we want to extract the voxels that have no activation\n",
        "\n",
        "    r2_scores[iter] = r2_score(y_test[:, significant_voxel_indices], predictions_design[:, significant_voxel_indices])\n",
        "\n",
        "    # print(model.coef_.shape)\n",
        "    weights_sum += model.best_estimator_.coef_\n",
        "    # weights_sum += model.coef_\n",
        "    # weights38.append(model.best_estimator_.coef_[38000, :])\n",
        "    del model\n",
        "\n",
        "# Getting the average weights\n",
        "weights_averaged = weights_sum / iterations\n",
        "r_scores_averaged = r_scores_sum / iterations\n",
        "\n",
        "del X_train\n",
        "del y_train\n",
        "del X_test\n",
        "del y_test\n",
        "del without_motion"
      ]
    },
    {
      "cell_type": "markdown",
      "source": [
        "Looking at which stimuli has best prediction rates"
      ],
      "metadata": {
        "id": "3T6d8V6xczGD"
      }
    },
    {
      "cell_type": "code",
      "source": [],
      "metadata": {
        "id": "P9kBanoqdt9j"
      },
      "execution_count": null,
      "outputs": []
    },
    {
      "cell_type": "code",
      "source": [
        "avg_correlation_per_TR = []\n",
        "\n",
        "for key, value in dict_all_preds.items():\n",
        "    avg_correlation_per_TR.append(np.mean(value))\n",
        "\n",
        "best_TR_indices = sorted(range(len(avg_correlation_per_TR)), key = lambda sub: avg_correlation_per_TR[sub])[-15:]\n",
        "worst_TR_indices = sorted(range(len(avg_correlation_per_TR)), key = lambda sub: avg_correlation_per_TR[sub])[:15]\n"
      ],
      "metadata": {
        "id": "cgtWQoLEc1ra"
      },
      "execution_count": null,
      "outputs": []
    },
    {
      "cell_type": "code",
      "source": [
        "avg_correlation_per_TR"
      ],
      "metadata": {
        "colab": {
          "base_uri": "https://localhost:8080/"
        },
        "id": "0glZF4LvjHxn",
        "outputId": "c40f9611-c6a1-4547-fe27-15db6661edb8"
      },
      "execution_count": null,
      "outputs": [
        {
          "output_type": "execute_result",
          "data": {
            "text/plain": [
              "[-0.1504812183271551,\n",
              " -0.09588041555181363,\n",
              " -1.5690846757995813e-05,\n",
              " -0.007494796283866397,\n",
              " 0.10654194569157002,\n",
              " 0.0548007409126024,\n",
              " -0.0449261999077038,\n",
              " 0.031761742480520286,\n",
              " 0.16386510206719904,\n",
              " 0.132989844870391,\n",
              " 0.07009867862011328,\n",
              " 0.08576268158452875,\n",
              " -0.027183381727924307,\n",
              " -0.02581485668309498,\n",
              " 0.0801426684469964,\n",
              " 0.3074523847478177,\n",
              " 0.06759126644214071,\n",
              " -0.017508473978867324,\n",
              " 0.06688811677667066,\n",
              " -0.05299953612568363,\n",
              " nan,\n",
              " nan,\n",
              " nan,\n",
              " nan,\n",
              " nan,\n",
              " nan,\n",
              " nan,\n",
              " nan,\n",
              " nan,\n",
              " nan,\n",
              " nan,\n",
              " nan,\n",
              " nan,\n",
              " nan,\n",
              " nan,\n",
              " nan,\n",
              " nan,\n",
              " nan,\n",
              " nan,\n",
              " nan,\n",
              " nan,\n",
              " nan,\n",
              " nan,\n",
              " nan,\n",
              " nan,\n",
              " nan,\n",
              " nan,\n",
              " nan,\n",
              " nan,\n",
              " nan,\n",
              " nan,\n",
              " nan,\n",
              " nan,\n",
              " nan,\n",
              " nan,\n",
              " nan,\n",
              " nan,\n",
              " nan,\n",
              " nan,\n",
              " nan,\n",
              " nan,\n",
              " nan,\n",
              " nan,\n",
              " nan,\n",
              " nan,\n",
              " nan,\n",
              " nan,\n",
              " nan,\n",
              " nan,\n",
              " nan,\n",
              " nan,\n",
              " nan,\n",
              " nan,\n",
              " nan,\n",
              " nan,\n",
              " nan,\n",
              " nan,\n",
              " nan,\n",
              " nan,\n",
              " nan,\n",
              " nan,\n",
              " nan,\n",
              " nan,\n",
              " nan,\n",
              " nan,\n",
              " nan,\n",
              " nan,\n",
              " nan,\n",
              " nan,\n",
              " nan,\n",
              " nan,\n",
              " nan,\n",
              " nan,\n",
              " nan,\n",
              " nan,\n",
              " nan,\n",
              " nan,\n",
              " nan,\n",
              " nan,\n",
              " nan,\n",
              " nan,\n",
              " nan,\n",
              " nan,\n",
              " nan,\n",
              " nan,\n",
              " nan,\n",
              " nan,\n",
              " nan,\n",
              " nan,\n",
              " nan,\n",
              " nan,\n",
              " nan,\n",
              " nan,\n",
              " nan,\n",
              " nan,\n",
              " nan,\n",
              " nan,\n",
              " nan,\n",
              " nan,\n",
              " nan,\n",
              " nan,\n",
              " nan,\n",
              " nan,\n",
              " nan,\n",
              " nan,\n",
              " nan,\n",
              " nan,\n",
              " nan,\n",
              " nan,\n",
              " nan,\n",
              " nan,\n",
              " nan,\n",
              " nan,\n",
              " nan,\n",
              " nan,\n",
              " nan,\n",
              " nan,\n",
              " nan,\n",
              " nan,\n",
              " nan,\n",
              " nan,\n",
              " nan,\n",
              " nan,\n",
              " nan,\n",
              " nan,\n",
              " nan,\n",
              " nan,\n",
              " nan,\n",
              " nan,\n",
              " nan,\n",
              " nan,\n",
              " nan,\n",
              " nan,\n",
              " nan,\n",
              " nan,\n",
              " nan,\n",
              " nan,\n",
              " nan,\n",
              " nan,\n",
              " nan,\n",
              " nan,\n",
              " nan,\n",
              " nan,\n",
              " nan,\n",
              " nan,\n",
              " nan,\n",
              " nan,\n",
              " nan,\n",
              " nan,\n",
              " nan,\n",
              " nan,\n",
              " nan,\n",
              " nan,\n",
              " nan,\n",
              " nan,\n",
              " nan,\n",
              " nan,\n",
              " nan,\n",
              " nan,\n",
              " nan,\n",
              " nan,\n",
              " nan,\n",
              " nan,\n",
              " nan,\n",
              " nan,\n",
              " nan,\n",
              " nan,\n",
              " nan,\n",
              " nan,\n",
              " nan,\n",
              " nan,\n",
              " nan,\n",
              " nan,\n",
              " nan,\n",
              " nan,\n",
              " nan,\n",
              " nan,\n",
              " nan,\n",
              " nan,\n",
              " nan,\n",
              " nan,\n",
              " nan,\n",
              " nan,\n",
              " nan,\n",
              " nan,\n",
              " nan,\n",
              " nan,\n",
              " nan,\n",
              " nan,\n",
              " nan]"
            ]
          },
          "metadata": {},
          "execution_count": 87
        }
      ]
    },
    {
      "cell_type": "code",
      "source": [
        "print(best_TR_indices)\n",
        "print(worst_TR_indices)"
      ],
      "metadata": {
        "colab": {
          "base_uri": "https://localhost:8080/"
        },
        "id": "ZHNtp9GPeG2Z",
        "outputId": "53f7739e-0036-4d9a-b81f-aee1b09a7490"
      },
      "execution_count": null,
      "outputs": [
        {
          "output_type": "stream",
          "name": "stdout",
          "text": [
            "[195, 196, 197, 198, 199, 200, 201, 202, 203, 204, 205, 206, 207, 208, 209]\n",
            "[0, 1, 19, 6, 12, 13, 17, 3, 2, 7, 5, 18, 16, 10, 14]\n"
          ]
        }
      ]
    },
    {
      "cell_type": "code",
      "execution_count": null,
      "metadata": {
        "colab": {
          "base_uri": "https://localhost:8080/"
        },
        "id": "Tqf0_WVXnBcQ",
        "outputId": "3f07ff31-9893-4799-cce6-9d05b78ee101"
      },
      "outputs": [
        {
          "output_type": "execute_result",
          "data": {
            "text/plain": [
              "array([ 0.03818135, -0.05760122,  0.08442854,  0.08061377,  0.09016463,\n",
              "        0.11964179, -0.01613002,  0.06460916, -0.11586578, -0.27035515])"
            ]
          },
          "metadata": {},
          "execution_count": 46
        }
      ],
      "source": [
        "r2_scores"
      ]
    },
    {
      "cell_type": "code",
      "source": [],
      "metadata": {
        "id": "ieWI8yAlcxOI"
      },
      "execution_count": null,
      "outputs": []
    },
    {
      "cell_type": "code",
      "execution_count": null,
      "metadata": {
        "colab": {
          "base_uri": "https://localhost:8080/"
        },
        "id": "oh3gemYawKkO",
        "outputId": "d4b3f017-f5f4-4331-82f2-057d605a056a"
      },
      "outputs": [
        {
          "output_type": "stream",
          "name": "stdout",
          "text": [
            "(70665,)\n",
            "773.931028048738\n"
          ]
        }
      ],
      "source": [
        "### Huth's metric sum of r_sv = r_sv * abs(r_sv) for all voxels\n",
        "huth_r2 = r_scores_averaged * abs(r_scores_averaged)\n",
        "print(huth_r2.shape)\n",
        "huth_r2_sum = np.sum(huth_r2)\n",
        "print(huth_r2_sum)"
      ]
    },
    {
      "cell_type": "code",
      "execution_count": null,
      "metadata": {
        "id": "4xijMvmtqAwA"
      },
      "outputs": [],
      "source": [
        "# weights38 = np.array(weights38)"
      ]
    },
    {
      "cell_type": "code",
      "execution_count": null,
      "metadata": {
        "id": "ZazRp76dhARc"
      },
      "outputs": [],
      "source": [
        "# print(weights38[0,:])"
      ]
    },
    {
      "cell_type": "code",
      "execution_count": null,
      "metadata": {
        "colab": {
          "base_uri": "https://localhost:8080/",
          "height": 265
        },
        "id": "_qh-bsxtmLkk",
        "outputId": "1db80a5d-ffeb-44d8-afe9-99a870ad4400"
      },
      "outputs": [
        {
          "output_type": "display_data",
          "data": {
            "text/plain": [
              "<Figure size 432x288 with 1 Axes>"
            ],
            "image/png": "[encoded data removed]"
          },
          "metadata": {
            "needs_background": "light"
          }
        }
      ],
      "source": [
        "x_axis = [i for i in range(example_neg_prediction.shape[0])]\n",
        "plt.plot(x_axis, example_neg_true, label = \"line 1\")\n",
        "plt.plot(x_axis, example_neg_prediction, label = \"line 2\")\n",
        "plt.legend()\n",
        "plt.show()"
      ]
    },
    {
      "cell_type": "code",
      "execution_count": null,
      "metadata": {
        "colab": {
          "base_uri": "https://localhost:8080/"
        },
        "id": "6oAHxMEQndz5",
        "outputId": "9c792dfa-e08d-40e2-db13-d831ce9de304"
      },
      "outputs": [
        {
          "output_type": "stream",
          "name": "stdout",
          "text": [
            "-0.517065123195274\n"
          ]
        }
      ],
      "source": [
        "print(example_neg_r)"
      ]
    },
    {
      "cell_type": "code",
      "execution_count": null,
      "metadata": {
        "colab": {
          "base_uri": "https://localhost:8080/",
          "height": 269
        },
        "id": "ATRrrRbMl24o",
        "outputId": "17077265-c328-4c92-b520-b19aa9af3bd4"
      },
      "outputs": [
        {
          "output_type": "display_data",
          "data": {
            "text/plain": [
              "<Figure size 432x288 with 1 Axes>"
            ],
            "image/png": "[encoded data removed]"
          },
          "metadata": {
            "needs_background": "light"
          }
        }
      ],
      "source": [
        "x_axis = [i for i in range(example__pos_prediction.shape[0])]\n",
        "plt.plot(x_axis, example_pos_true, label = \"line 1\")\n",
        "plt.plot(x_axis, example__pos_prediction, label = \"line 2\")\n",
        "plt.legend()\n",
        "plt.show()"
      ]
    },
    {
      "cell_type": "code",
      "execution_count": null,
      "metadata": {
        "colab": {
          "base_uri": "https://localhost:8080/"
        },
        "id": "uhRs8P_zl7Zr",
        "outputId": "c95a4fe2-7407-4e14-86af-3ef305fb011a"
      },
      "outputs": [
        {
          "output_type": "stream",
          "name": "stdout",
          "text": [
            "0.558101160123543\n"
          ]
        }
      ],
      "source": [
        "print(example_pos_r)"
      ]
    },
    {
      "cell_type": "code",
      "execution_count": null,
      "metadata": {
        "colab": {
          "base_uri": "https://localhost:8080/"
        },
        "id": "1OP7kwskyFvO",
        "outputId": "51839353-7866-44f2-f3c9-e5f61c2183dd"
      },
      "outputs": [
        {
          "output_type": "stream",
          "name": "stderr",
          "text": [
            "/usr/local/lib/python3.7/dist-packages/scipy/stats/stats.py:8203: RuntimeWarning: divide by zero encountered in log\n",
            "  statistic = -2 * np.sum(np.log(pvalues))\n"
          ]
        }
      ],
      "source": [
        "# combining p-values with Fisher's method https://docs.scipy.org/doc/scipy-0.16.0/reference/generated/scipy.stats.combine_pvalues.html\n",
        "combined_pvalues = []\n",
        "\n",
        "from scipy.stats import combine_pvalues\n",
        "for i in range(n_active_voxel):\n",
        "    combined_pvalue = combine_pvalues(list(p_values_design[:,i]))\n",
        "    combined_pvalues.append(combined_pvalue[1])"
      ]
    },
    {
      "cell_type": "code",
      "execution_count": null,
      "metadata": {
        "colab": {
          "base_uri": "https://localhost:8080/"
        },
        "id": "hvA98FZVEsgU",
        "outputId": "a4f387fa-c96d-42a6-9c18-435a7441ca1d"
      },
      "outputs": [
        {
          "output_type": "stream",
          "name": "stdout",
          "text": [
            "0.3207545687844353\n",
            "3951\n"
          ]
        }
      ],
      "source": [
        "significantly_predicted = 0\n",
        "significant_voxels = []\n",
        "average_r_value = 0\n",
        "\n",
        "for i in range(n_active_voxel):\n",
        "    if combined_pvalues[i] <= 0.05 and r_scores_averaged[i] > 0.25:\n",
        "        significant_voxels.append(i)\n",
        "        significantly_predicted += 1\n",
        "        average_r_value += r_scores_averaged[i]\n",
        "average_r_value = average_r_value / significantly_predicted\n",
        "\n",
        "print(average_r_value)\n",
        "print(significantly_predicted)\n"
      ]
    },
    {
      "cell_type": "code",
      "execution_count": null,
      "metadata": {
        "id": "L_J6dCVNulgK",
        "colab": {
          "base_uri": "https://localhost:8080/"
        },
        "outputId": "e59078e1-784c-4e7a-84aa-c1961289f62d"
      },
      "outputs": [
        {
          "output_type": "stream",
          "name": "stdout",
          "text": [
            "(70665,)\n",
            "(70665, 3079)\n"
          ]
        }
      ],
      "source": [
        "combined_pvalues = np.array(combined_pvalues)\n",
        "# print(r_scores_averaged.shape)\n",
        "print(combined_pvalues.shape)\n",
        "print(weights_averaged.shape)\n",
        "S1_weights = weights_averaged"
      ]
    },
    {
      "cell_type": "code",
      "execution_count": null,
      "metadata": {
        "colab": {
          "base_uri": "https://localhost:8080/",
          "height": 258
        },
        "id": "tRRIpjtfllHU",
        "outputId": "f9fd3c8e-749c-446a-e0ca-a4b96075aa30"
      },
      "outputs": [
        {
          "ename": "AttributeError",
          "evalue": "ignored",
          "output_type": "error",
          "traceback": [
            "\u001b[0;31m---------------------------------------------------------------------------\u001b[0m",
            "\u001b[0;31mAttributeError\u001b[0m                            Traceback (most recent call last)",
            "\u001b[0;32m<ipython-input-41-50041a93835a>\u001b[0m in \u001b[0;36m<module>\u001b[0;34m\u001b[0m\n\u001b[1;32m      1\u001b[0m \u001b[0mlabel_weights_dict\u001b[0m \u001b[0;34m=\u001b[0m \u001b[0;34m{\u001b[0m\u001b[0;34m}\u001b[0m \u001b[0;31m# keys as design matrix label names (L0 to constant) and values as the 256000 dimensional vector that represent weights for each voxel\u001b[0m\u001b[0;34m\u001b[0m\u001b[0;34m\u001b[0m\u001b[0m\n\u001b[1;32m      2\u001b[0m \u001b[0;34m\u001b[0m\u001b[0m\n\u001b[0;32m----> 3\u001b[0;31m \u001b[0;32mfor\u001b[0m \u001b[0mi\u001b[0m \u001b[0;32min\u001b[0m \u001b[0mrange\u001b[0m\u001b[0;34m(\u001b[0m\u001b[0mlen\u001b[0m\u001b[0;34m(\u001b[0m\u001b[0mdesign_matrix_df\u001b[0m\u001b[0;34m.\u001b[0m\u001b[0mcolumns\u001b[0m\u001b[0;34m)\u001b[0m\u001b[0;34m)\u001b[0m\u001b[0;34m:\u001b[0m\u001b[0;34m\u001b[0m\u001b[0;34m\u001b[0m\u001b[0m\n\u001b[0m\u001b[1;32m      4\u001b[0m     \u001b[0mlabel_weights_dict\u001b[0m\u001b[0;34m[\u001b[0m\u001b[0mdesign_matrix_df\u001b[0m\u001b[0;34m.\u001b[0m\u001b[0mcolumns\u001b[0m\u001b[0;34m[\u001b[0m\u001b[0mi\u001b[0m\u001b[0;34m]\u001b[0m\u001b[0;34m]\u001b[0m \u001b[0;34m=\u001b[0m \u001b[0mS1_weights\u001b[0m\u001b[0;34m[\u001b[0m\u001b[0;34m:\u001b[0m\u001b[0;34m,\u001b[0m\u001b[0mi\u001b[0m\u001b[0;34m]\u001b[0m\u001b[0;34m\u001b[0m\u001b[0;34m\u001b[0m\u001b[0m\n\u001b[1;32m      5\u001b[0m \u001b[0;34m\u001b[0m\u001b[0m\n",
            "\u001b[0;31mAttributeError\u001b[0m: 'numpy.ndarray' object has no attribute 'columns'"
          ]
        }
      ],
      "source": [
        "label_weights_dict = {} # keys as design matrix label names (L0 to constant) and values as the 256000 dimensional vector that represent weights for each voxel\n",
        "\n",
        "for i in range(len(design_matrix_df.columns)):\n",
        "    label_weights_dict[design_matrix_df.columns[i]] = S1_weights[:,i]\n",
        "\n",
        "del S1_weights\n",
        "\n",
        "S1_category_weights = [] # should have the size (256000, 339)\n",
        "\n",
        "for cat_i in range(339):\n",
        "    weight_sum = label_weights_dict[\"L\"+str(cat_i)+\"_delay_1\"] + label_weights_dict[\"L\"+str(cat_i)+\"_delay_2\"] + label_weights_dict[\"L\"+str(cat_i)+\"_delay_3\"] + label_weights_dict[\"L\"+str(cat_i)+\"_delay_4\"]\n",
        "    S1_category_weights.append(weight_sum / 4)\n",
        "\n",
        "S1_category_weights = np.transpose(np.array(S1_category_weights))\n",
        "\n",
        "# from sklearn.preprocessing import StandardScaler\n",
        "# category_stimulus_matrix = StandardScaler().fit_transform(category_stimulus_matrix)"
      ]
    },
    {
      "cell_type": "code",
      "execution_count": null,
      "metadata": {
        "id": "kU-E0Rxflsa3"
      },
      "outputs": [],
      "source": [
        "S1_significant = StandardScaler().fit_transform(S1_category_weights[significant_voxels])\n",
        "del S1_category_weights"
      ]
    },
    {
      "cell_type": "code",
      "execution_count": null,
      "metadata": {
        "id": "Nw-46-2aluGi"
      },
      "outputs": [],
      "source": [
        "from sklearn.decomposition import PCA\n",
        "S1_pca_weights = PCA(n_components=20) # gets the most significant 20 PCs.\n",
        "S1_PC_weights = S1_pca_weights.fit_transform(S1_significant)\n",
        "\n",
        "S1_self_variance_explained = S1_pca_weights.explained_variance_ratio_\n",
        "S1_self_variance_explained"
      ]
    },
    {
      "cell_type": "code",
      "execution_count": null,
      "metadata": {
        "id": "2GUDCO-zD20T"
      },
      "outputs": [],
      "source": [
        "pd.DataFrame(significant_voxels).to_csv('Training/Group1/P1001-G1/1001_significant_index.csv', encoding='utf-8-sig')"
      ]
    },
    {
      "cell_type": "code",
      "execution_count": null,
      "metadata": {
        "id": "3mj_zb5ZN_qK"
      },
      "outputs": [],
      "source": [
        "pd.DataFrame(r_scores_averaged).to_csv('Training/Group1/P1001-G1/1001_r_scores.csv', encoding='utf-8-sig')\n",
        "pd.DataFrame(combined_pvalues).to_csv('Training/Group1/P1001-G1/1001_p_values.csv', encoding='utf-8-sig')"
      ]
    },
    {
      "cell_type": "code",
      "execution_count": null,
      "metadata": {
        "id": "GirktBDsuqTA"
      },
      "outputs": [],
      "source": [
        "pd.DataFrame(weights_averaged).to_csv('Training/Group1/P1001-G1/1001_weights_FIR.csv', encoding='utf-8-sig')"
      ]
    }
  ],
  "metadata": {
    "colab": {
      "provenance": []
    },
    "kernelspec": {
      "display_name": "Python 3",
      "name": "python3"
    },
    "language_info": {
      "name": "python"
    },
    "gpuClass": "standard"
  },
  "nbformat": 4,
  "nbformat_minor": 0
}